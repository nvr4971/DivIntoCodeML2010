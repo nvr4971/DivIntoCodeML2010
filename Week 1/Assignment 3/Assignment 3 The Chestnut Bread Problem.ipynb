{
 "cells": [
  {
   "cell_type": "markdown",
   "id": "interested-flavor",
   "metadata": {},
   "source": [
    "Assignment 3: The Chestnut Bread Problem\n",
    "\n",
    "\n",
    "Problem: The day when chestnut bread covers the solar system"
   ]
  },
  {
   "cell_type": "markdown",
   "id": "abstract-spoke",
   "metadata": {},
   "source": [
    "In order to solve this problem, we need to determine the volume of a normal chestnut bread and the volume of the solar system"
   ]
  },
  {
   "cell_type": "markdown",
   "id": "scheduled-karen",
   "metadata": {},
   "source": [
    "1. Volume of a normal chestnut bun"
   ]
  },
  {
   "cell_type": "markdown",
   "id": "structured-solomon",
   "metadata": {},
   "source": [
    "This is quite tricky, so in this case the assumptions are made based on the following source article"
   ]
  },
  {
   "cell_type": "markdown",
   "id": "alone-investor",
   "metadata": {},
   "source": [
    "Source: https://cookpad.com/uk/recipes/155252-chestnut-buns"
   ]
  },
  {
   "cell_type": "markdown",
   "id": "legitimate-puppy",
   "metadata": {},
   "source": [
    "Specifically, based on the pictures, we could assume that the chestnut bread has a shape of an upper half of a perfect sphere (or a hemisphere) in order for easy calculation and its circumference is the length of a human palm, which is 10 centimeters, or 0.1 meter"
   ]
  },
  {
   "cell_type": "markdown",
   "id": "established-suspect",
   "metadata": {},
   "source": [
    "Thus, the volume of the chestnut bread is the volume of a hemisphere with a diameter of 0.05 meter in which the formula is:\n",
    "\n",
    "V = $\\frac{2}{3}$ * $\\pi$* $r^3$ in which r is the diameter"
   ]
  },
  {
   "cell_type": "markdown",
   "id": "minor-beginning",
   "metadata": {},
   "source": [
    "Thus:"
   ]
  },
  {
   "cell_type": "code",
   "execution_count": 4,
   "id": "nominated-strap",
   "metadata": {},
   "outputs": [],
   "source": [
    "import math\n",
    "\n",
    "chestnut_volume = (2 / 3) * math.pi * (0.05 ** 3)"
   ]
  },
  {
   "cell_type": "markdown",
   "id": "phantom-feeding",
   "metadata": {},
   "source": [
    "2. Volume of the solar system"
   ]
  },
  {
   "cell_type": "markdown",
   "id": "charitable-jersey",
   "metadata": {},
   "source": [
    "According the the source article, the Solar System diameter assumption is 287.46 billion kilometers, or 28746 * $10^{10}$ meters\n",
    "\n",
    "Source: https://www.universetoday.com/15585/diameter-of-the-solar-system/"
   ]
  },
  {
   "cell_type": "markdown",
   "id": "treated-swift",
   "metadata": {},
   "source": [
    "We assumed that the solar system is a perfect sphere, therefore the volume formula would be:\n",
    "\n",
    "V = $\\frac{4}{3}$ * $\\pi$* $r^3$ in which r is the diameter"
   ]
  },
  {
   "cell_type": "markdown",
   "id": "greenhouse-remedy",
   "metadata": {},
   "source": [
    "Thus:"
   ]
  },
  {
   "cell_type": "code",
   "execution_count": 5,
   "id": "secure-rugby",
   "metadata": {},
   "outputs": [],
   "source": [
    "solar_system_volume = (4 /3) * math.pi * ((28746 * (10 ** 10)) ** 3)"
   ]
  },
  {
   "cell_type": "markdown",
   "id": "reasonable-africa",
   "metadata": {},
   "source": [
    "3. Calculation"
   ]
  },
  {
   "cell_type": "markdown",
   "id": "recorded-generic",
   "metadata": {},
   "source": [
    "We first find out how many times the chestnut bread will multiply in order for its total volume matches the volume of the solar system:"
   ]
  },
  {
   "cell_type": "code",
   "execution_count": 6,
   "id": "radical-marker",
   "metadata": {},
   "outputs": [],
   "source": [
    "mul_times = solar_system_volume / chestnut_volume"
   ]
  },
  {
   "cell_type": "markdown",
   "id": "executed-operator",
   "metadata": {},
   "source": [
    "Given that the chestnut bread will multiply itself by 2 every 5 minutes, we can calculate how much time it will take to multiply said times calculated above:"
   ]
  },
  {
   "cell_type": "code",
   "execution_count": 7,
   "id": "consolidated-narrative",
   "metadata": {},
   "outputs": [
    {
     "name": "stdout",
     "output_type": "stream",
     "text": [
      "Time taken: 790.284239639218 minutes\n"
     ]
    }
   ],
   "source": [
    "time_taken = math.log2(mul_times) * 5\n",
    "\n",
    "print(\"Time taken: {} minutes\".format(time_taken))"
   ]
  },
  {
   "cell_type": "markdown",
   "id": "disabled-supplier",
   "metadata": {},
   "source": [
    "Note that this calculation is based on the assumption that the shape of the chestnut bread and the solar system are perfect geometry shape in order for easy calculation, the actual result could deviate from the result calculated above."
   ]
  },
  {
   "cell_type": "code",
   "execution_count": null,
   "id": "official-ideal",
   "metadata": {},
   "outputs": [],
   "source": []
  }
 ],
 "metadata": {
  "kernelspec": {
   "display_name": "Python 3",
   "language": "python",
   "name": "python3"
  },
  "language_info": {
   "codemirror_mode": {
    "name": "ipython",
    "version": 3
   },
   "file_extension": ".py",
   "mimetype": "text/x-python",
   "name": "python",
   "nbconvert_exporter": "python",
   "pygments_lexer": "ipython3",
   "version": "3.9.0"
  }
 },
 "nbformat": 4,
 "nbformat_minor": 5
}
