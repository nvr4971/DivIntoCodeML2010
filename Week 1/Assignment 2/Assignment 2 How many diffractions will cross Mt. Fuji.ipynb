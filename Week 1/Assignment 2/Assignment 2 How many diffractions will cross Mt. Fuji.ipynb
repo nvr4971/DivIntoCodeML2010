{
 "cells": [
  {
   "cell_type": "markdown",
   "id": "statistical-explosion",
   "metadata": {},
   "source": [
    "Assignment 2 How many diffractions will cross Mt. Fuji\n",
    "\n",
    "Student: Nguyễn Tấn Tài"
   ]
  },
  {
   "cell_type": "markdown",
   "id": "hungarian-harbor",
   "metadata": {},
   "source": [
    "Problem 1: Minimum number of folds over Mt. Fuji"
   ]
  },
  {
   "cell_type": "code",
   "execution_count": 1,
   "id": "formal-worth",
   "metadata": {},
   "outputs": [
    {
     "name": "stdout",
     "output_type": "stream",
     "text": [
      "Number of folds for the thickness to exceed Mt. Fuji (3776m): 25.49228352379865 folds\n"
     ]
    }
   ],
   "source": [
    "import math \n",
    "\n",
    "# Constant value: thickness of a general copy paper (in meters (m))\n",
    "THICKNESS = 0.00008\n",
    "\n",
    "fold_times = math.log2(3776 / THICKNESS)\n",
    "\n",
    "print(\"Number of folds for the thickness to exceed Mt. Fuji (3776m): {} folds\".format(fold_times))"
   ]
  },
  {
   "cell_type": "markdown",
   "id": "billion-parking",
   "metadata": {},
   "source": [
    "Problem 2: Creating a function corresponding to an arbitrary thickness"
   ]
  },
  {
   "cell_type": "code",
   "execution_count": 3,
   "id": "political-brighton",
   "metadata": {},
   "outputs": [],
   "source": [
    "import math\n",
    "\n",
    "def number_of_folds(distance, initial_thickness = 0.00008):\n",
    "    return math.log2(distance / initial_thickness)"
   ]
  },
  {
   "cell_type": "markdown",
   "id": "engaged-vietnamese",
   "metadata": {},
   "source": [
    "Closest non-Sun star: Proxima Centauri\n",
    "\n",
    "Source: https://www.space.com/18090-alpha-centauri-nearest-star-system.html#:~:text=The%20two%20main%20stars%20are,star%20other%20than%20the%20sun.\n",
    "\n",
    "The distance is 4.22 light years, which is 3.992428e+16 meters"
   ]
  },
  {
   "cell_type": "code",
   "execution_count": 4,
   "id": "greatest-bubble",
   "metadata": {},
   "outputs": [
    {
     "name": "stdout",
     "output_type": "stream",
     "text": [
      "Number of folds to reach the closest non-Sun star: 68.75775638274335 folds\n"
     ]
    }
   ],
   "source": [
    "fold_times = number_of_folds(3.992428e+16)\n",
    "\n",
    "print(\"Number of folds to reach the closest non-Sun star: {} folds\".format(fold_times))"
   ]
  },
  {
   "cell_type": "markdown",
   "id": "seventh-engine",
   "metadata": {},
   "source": [
    "Problem 3: Required paper length"
   ]
  },
  {
   "cell_type": "markdown",
   "id": "prescription-authorization",
   "metadata": {},
   "source": [
    "Fun fact: The provided formula is 1 out of 2 formulas discovered by Britney Gallivan (who discovered them while in high school!)"
   ]
  },
  {
   "cell_type": "code",
   "execution_count": 5,
   "id": "virgin-adams",
   "metadata": {},
   "outputs": [],
   "source": [
    "import math\n",
    "\n",
    "def gallivan_paper_fold_length(fold_times, initial_thickness = 0.00008):\n",
    "    return ((math.pi * initial_thickness) / 6) * (2 ** fold_times + 4) * (2 ** fold_times - 1)"
   ]
  },
  {
   "cell_type": "markdown",
   "id": "informative-pasta",
   "metadata": {},
   "source": [
    "Moon distance: 384400 km (average distance) = 384400000 meters\n",
    "\n",
    "Source: https://www.space.com/18145-how-far-is-the-moon.html"
   ]
  },
  {
   "cell_type": "code",
   "execution_count": 6,
   "id": "extra-input",
   "metadata": {},
   "outputs": [
    {
     "name": "stdout",
     "output_type": "stream",
     "text": [
      "Length of paper needed to reach the Moon: 9.671089296792327e+20 meters\n"
     ]
    }
   ],
   "source": [
    "print(\"Length of paper needed to reach the Moon: {} meters\".format(gallivan_paper_fold_length(number_of_folds(384400000))))"
   ]
  },
  {
   "cell_type": "markdown",
   "id": "duplicate-motivation",
   "metadata": {},
   "source": [
    "Mt. Fuji: 3776 meters"
   ]
  },
  {
   "cell_type": "code",
   "execution_count": 8,
   "id": "strategic-intake",
   "metadata": {},
   "outputs": [
    {
     "name": "stdout",
     "output_type": "stream",
     "text": [
      "Length of paper needed to reach Mt. Fuji: 93319549629.63966 meters\n"
     ]
    }
   ],
   "source": [
    "print(\"Length of paper needed to reach Mt. Fuji: {} meters\".format(gallivan_paper_fold_length(number_of_folds(3776))))"
   ]
  },
  {
   "cell_type": "markdown",
   "id": "educational-infrastructure",
   "metadata": {},
   "source": [
    "Proxima Centauri: 4.22 light years = 3.992428e+16 meters (as mentioned in problem 2 above)"
   ]
  },
  {
   "cell_type": "code",
   "execution_count": 9,
   "id": "liable-custody",
   "metadata": {},
   "outputs": [
    {
     "name": "stdout",
     "output_type": "stream",
     "text": [
      "Length of paper needed to reach the closest non-Sun star: 1.0432366138467766e+37 meters\n"
     ]
    }
   ],
   "source": [
    "print(\"Length of paper needed to reach the closest non-Sun star: {} meters\".format(gallivan_paper_fold_length(number_of_folds(3.992428e+16))))"
   ]
  },
  {
   "cell_type": "code",
   "execution_count": null,
   "id": "ongoing-appraisal",
   "metadata": {},
   "outputs": [],
   "source": []
  }
 ],
 "metadata": {
  "kernelspec": {
   "display_name": "Python 3",
   "language": "python",
   "name": "python3"
  },
  "language_info": {
   "codemirror_mode": {
    "name": "ipython",
    "version": 3
   },
   "file_extension": ".py",
   "mimetype": "text/x-python",
   "name": "python",
   "nbconvert_exporter": "python",
   "pygments_lexer": "ipython3",
   "version": "3.9.0"
  }
 },
 "nbformat": 4,
 "nbformat_minor": 5
}
