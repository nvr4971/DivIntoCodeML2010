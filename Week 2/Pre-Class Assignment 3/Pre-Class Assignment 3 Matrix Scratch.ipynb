{
 "cells": [
  {
   "cell_type": "markdown",
   "id": "featured-valuable",
   "metadata": {},
   "source": [
    "Pre-Class Assignment 3 Matrix Scratch\n",
    "\n",
    "Student: Nguyễn Tấn Tài"
   ]
  },
  {
   "cell_type": "markdown",
   "id": "eight-absolute",
   "metadata": {},
   "source": [
    "Problem 1: Matrix product is calculated manually\n",
    "\n",
    "Given:"
   ]
  },
  {
   "cell_type": "markdown",
   "id": "baking-musical",
   "metadata": {},
   "source": [
    "$$A = \\begin{bmatrix} -1 & 2 & 3 \\\\ 4 & -5 & 6 \\\\ 7 & 8 & -9 \\end{bmatrix}, B = \\begin{bmatrix} 0 & 2 & 1 \\\\ 0 & 2 & -8 \\\\ 2 & 9 & -1 \\end{bmatrix}$$"
   ]
  },
  {
   "cell_type": "markdown",
   "id": "resident-projection",
   "metadata": {},
   "source": [
    "We denote matrix R as $$R = A \\cdot B$$"
   ]
  },
  {
   "cell_type": "markdown",
   "id": "caring-direction",
   "metadata": {},
   "source": [
    "Thus: $$R = \\begin{bmatrix} a_{11} & a_{12} & a_{13} \\\\ a_{21} & a_{22} & a_{23} \\\\ a_{31} & a_{32} & a_{33} \\end{bmatrix}$$"
   ]
  },
  {
   "cell_type": "markdown",
   "id": "impossible-purse",
   "metadata": {},
   "source": [
    "$a_{11} = -1 \\times 0 + 2 \\times 0 + 3 \\times 2 = 6$\n",
    "\n",
    "$a_{12} = -1 \\times 2 + 2 \\times 2 + 3 \\times 9 = 29$\n",
    "\n",
    "$a_{13} = -1 \\times 1 + 2 \\times -8 + 3 \\times -1 = -20$\n",
    "\n",
    "$a_{21} = 4 \\times 0 + -5 \\times 0 + 6 \\times 2 = 12$\n",
    "\n",
    "$a_{22} = 4 \\times 2 + -5 \\times 2 + 6 \\times 9 = 52$\n",
    "\n",
    "$a_{23} = 4 \\times 1 + -5 \\times -8 + 6 \\times -1 = 38$\n",
    "\n",
    "$a_{31} = 7 \\times 0 + 8 \\times 0 + -9 \\times 2 = -18$\n",
    "\n",
    "$a_{32} = 7 \\times 2 + 8 \\times 2 + -9 \\times 9 = -51$\n",
    "\n",
    "$a_{33} = 7 \\times 1 + 8 \\times -8 + -9 \\times -1 = -48$"
   ]
  },
  {
   "cell_type": "markdown",
   "id": "forty-cricket",
   "metadata": {},
   "source": [
    "Therefore the product of matrices A and B is:"
   ]
  },
  {
   "cell_type": "markdown",
   "id": "funky-vanilla",
   "metadata": {},
   "source": [
    "Thus: $$R = A \\cdot B = \\begin{bmatrix} 6 & 29 & -20 \\\\ 12 & 52 & 38 \\\\ -18 & -51 & -48 \\end{bmatrix}$$"
   ]
  },
  {
   "cell_type": "markdown",
   "id": "comparative-evans",
   "metadata": {},
   "source": [
    "Problem 2: Calculation by NumPy function"
   ]
  },
  {
   "cell_type": "code",
   "execution_count": 3,
   "id": "assigned-fleece",
   "metadata": {},
   "outputs": [
    {
     "name": "stdout",
     "output_type": "stream",
     "text": [
      "[[  6  29 -20]\n",
      " [ 12  52  38]\n",
      " [-18 -51 -48]]\n"
     ]
    }
   ],
   "source": [
    "import numpy as np\n",
    "\n",
    "A = np.array([\n",
    "            [-1, 2, 3], \n",
    "            [4, -5, 6], \n",
    "            [7, 8, -9]\n",
    "            ])\n",
    "B = np.array([\n",
    "            [0, 2, 1], \n",
    "            [0, 2, -8], \n",
    "            [2, 9, -1]\n",
    "            ])\n",
    "\n",
    "print(np.dot(A, B))"
   ]
  },
  {
   "cell_type": "markdown",
   "id": "unusual-insured",
   "metadata": {},
   "source": [
    "Problem 3: Implementation of calculation of a certain element"
   ]
  },
  {
   "cell_type": "code",
   "execution_count": 4,
   "id": "complex-steal",
   "metadata": {},
   "outputs": [
    {
     "name": "stdout",
     "output_type": "stream",
     "text": [
      "[[  6.  29. -20.]\n",
      " [ 12.  52.  38.]\n",
      " [-18. -51. -48.]]\n"
     ]
    }
   ],
   "source": [
    "result = np.zeros((3, 3))\n",
    "\n",
    "for i in range(len(A)):\n",
    "    for j in range(len(B[0])):\n",
    "        for k in range(len(B[0])):\n",
    "            result[i][j] += A[i][k] * B[k][j]\n",
    "\n",
    "print(result)"
   ]
  },
  {
   "cell_type": "markdown",
   "id": "documented-andrews",
   "metadata": {},
   "source": [
    "Problem 4: Creating a function that performs matrix multiplication"
   ]
  },
  {
   "cell_type": "code",
   "execution_count": 5,
   "id": "victorian-egyptian",
   "metadata": {},
   "outputs": [
    {
     "name": "stdout",
     "output_type": "stream",
     "text": [
      "[[  6.  29. -20.]\n",
      " [ 12.  52.  38.]\n",
      " [-18. -51. -48.]]\n"
     ]
    }
   ],
   "source": [
    "def matrix_mul(A, B):\n",
    "    result = np.zeros((len(A), len(B[0])))\n",
    "\n",
    "    for i in range(len(A)):\n",
    "        for j in range(len(B[0])):\n",
    "            for k in range(len(B[0])):\n",
    "                result[i][j] += A[i][k] * B[k][j]\n",
    "\n",
    "    return result\n",
    "\n",
    "result = matrix_mul(A, B)\n",
    "print(result)"
   ]
  },
  {
   "cell_type": "markdown",
   "id": "spatial-arrival",
   "metadata": {},
   "source": [
    "Problem 5: Judge the input whose calculation is not defined"
   ]
  },
  {
   "cell_type": "code",
   "execution_count": 6,
   "id": "color-decimal",
   "metadata": {},
   "outputs": [
    {
     "name": "stdout",
     "output_type": "stream",
     "text": [
      "The number of columns in the first matrix must be equal to the number of rows in the second matrix\n",
      "None\n"
     ]
    }
   ],
   "source": [
    "D = np.array([\n",
    "            [-1, 2, 3],\n",
    "            [4, -5, 6]\n",
    "            ])\n",
    "\n",
    "E = np.array([\n",
    "            [-9, 8, 7],\n",
    "            [6, -5, 4]\n",
    "            ])\n",
    "\n",
    "def matrix_mul(A, B):\n",
    "    if (len(A) != len(B[0])):\n",
    "        print(\"The number of columns in the first matrix must be equal to the number of rows in the second matrix\")\n",
    "        return\n",
    "\n",
    "    result = np.zeros((len(A), len(B[0])))\n",
    "\n",
    "    for i in range(len(A)):\n",
    "        for j in range(len(B[0])):\n",
    "            for k in range(len(B[0])):\n",
    "                result[i][j] += A[i][k] * B[k][j]\n",
    "\n",
    "    return result\n",
    "\n",
    "result = matrix_mul(D, E)\n",
    "print(result)"
   ]
  },
  {
   "cell_type": "markdown",
   "id": "capital-macintosh",
   "metadata": {},
   "source": [
    "Problem 6: Transposition"
   ]
  },
  {
   "cell_type": "code",
   "execution_count": 7,
   "id": "gorgeous-linux",
   "metadata": {},
   "outputs": [
    {
     "name": "stdout",
     "output_type": "stream",
     "text": [
      "[[ 25. -16.]\n",
      " [-76.  49.]]\n"
     ]
    }
   ],
   "source": [
    "result = matrix_mul(D, E.T)\n",
    "print(result)"
   ]
  },
  {
   "cell_type": "code",
   "execution_count": null,
   "id": "artificial-hundred",
   "metadata": {},
   "outputs": [],
   "source": []
  }
 ],
 "metadata": {
  "kernelspec": {
   "display_name": "Python 3",
   "language": "python",
   "name": "python3"
  },
  "language_info": {
   "codemirror_mode": {
    "name": "ipython",
    "version": 3
   },
   "file_extension": ".py",
   "mimetype": "text/x-python",
   "name": "python",
   "nbconvert_exporter": "python",
   "pygments_lexer": "ipython3",
   "version": "3.9.0"
  }
 },
 "nbformat": 4,
 "nbformat_minor": 5
}
