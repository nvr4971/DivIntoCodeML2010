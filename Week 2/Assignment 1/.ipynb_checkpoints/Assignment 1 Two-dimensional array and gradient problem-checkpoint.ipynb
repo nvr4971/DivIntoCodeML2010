{
 "cells": [
  {
   "cell_type": "markdown",
   "id": "recent-planet",
   "metadata": {},
   "source": [
    "Assignment 1: Two-dimensional array and gradient problem\n",
    "\n",
    "Student: Nguyễn Tấn Tài"
   ]
  },
  {
   "cell_type": "markdown",
   "id": "right-inventory",
   "metadata": {},
   "source": [
    "Problem 1: Linear function"
   ]
  },
  {
   "cell_type": "markdown",
   "id": "introductory-python",
   "metadata": {},
   "source": [
    "x in range of from -50 to 50, with 0.1 interval so the ndarray that represents x:"
   ]
  },
  {
   "cell_type": "code",
   "execution_count": 1,
   "id": "composed-timeline",
   "metadata": {},
   "outputs": [
    {
     "name": "stdout",
     "output_type": "stream",
     "text": [
      "[-50.  -49.9 -49.8 ...  49.8  49.9  50. ]\n"
     ]
    }
   ],
   "source": [
    "import numpy as np\n",
    "\n",
    "x = np.arange(-50, 50.1, 0.1)\n",
    "\n",
    "print(x)"
   ]
  },
  {
   "cell_type": "markdown",
   "id": "neutral-invasion",
   "metadata": {},
   "source": [
    "Since $y = \\frac{1}{2}x + 1$, the ndarray that represents y:"
   ]
  },
  {
   "cell_type": "code",
   "execution_count": 2,
   "id": "designing-creation",
   "metadata": {},
   "outputs": [
    {
     "name": "stdout",
     "output_type": "stream",
     "text": [
      "[-24.   -23.95 -23.9  ...  25.9   25.95  26.  ]\n"
     ]
    }
   ],
   "source": [
    "y = (1 / 2) * x + 1\n",
    "\n",
    "print(y)"
   ]
  },
  {
   "cell_type": "markdown",
   "id": "solved-david",
   "metadata": {},
   "source": [
    "Problem 2: Array combination"
   ]
  },
  {
   "cell_type": "markdown",
   "id": "boxed-segment",
   "metadata": {},
   "source": [
    "First we have to reshape the x and y ndarray:"
   ]
  },
  {
   "cell_type": "code",
   "execution_count": 3,
   "id": "diagnostic-muslim",
   "metadata": {},
   "outputs": [],
   "source": [
    "x = np.arange(-50, 50.1, 0.1)\n",
    "x = np.reshape(x, (-1, 1))\n",
    "\n",
    "y = (1 / 2) * x + 1"
   ]
  },
  {
   "cell_type": "markdown",
   "id": "historical-least",
   "metadata": {},
   "source": [
    "The purpose of reshape the ndarrays is in order to use the numpy concatenate: function"
   ]
  },
  {
   "cell_type": "code",
   "execution_count": 4,
   "id": "raising-salmon",
   "metadata": {},
   "outputs": [
    {
     "name": "stdout",
     "output_type": "stream",
     "text": [
      "[[-50.   -24.  ]\n",
      " [-49.9  -23.95]\n",
      " [-49.8  -23.9 ]\n",
      " ...\n",
      " [ 49.8   25.9 ]\n",
      " [ 49.9   25.95]\n",
      " [ 50.    26.  ]]\n"
     ]
    }
   ],
   "source": [
    "lst = np.concatenate((x, y), axis = 1)\n",
    "\n",
    "print(lst)"
   ]
  },
  {
   "cell_type": "markdown",
   "id": "optional-wholesale",
   "metadata": {},
   "source": [
    "Problem 3: Find the gradient"
   ]
  },
  {
   "cell_type": "markdown",
   "id": "still-atlanta",
   "metadata": {},
   "source": [
    "Given the forumla to calculate the gradient:\n",
    "\n",
    "$\\text{gradient} = \\frac{\\text{amount of change in y}}{\\text{amount of change in x}}$"
   ]
  },
  {
   "cell_type": "code",
   "execution_count": 11,
   "id": "outstanding-mailman",
   "metadata": {},
   "outputs": [
    {
     "name": "stdout",
     "output_type": "stream",
     "text": [
      "[0.5 0.5 0.5 0.5 0.5 0.5 0.5 0.5 0.5 0.5 0.5 0.5 0.5 0.5 0.5 0.5 0.5 0.5\n",
      " 0.5 0.5 0.5 0.5 0.5 0.5 0.5 0.5 0.5 0.5 0.5 0.5 0.5 0.5 0.5 0.5 0.5 0.5\n",
      " 0.5 0.5 0.5 0.5 0.5 0.5 0.5 0.5 0.5 0.5 0.5 0.5 0.5 0.5 0.5 0.5 0.5 0.5\n",
      " 0.5 0.5 0.5 0.5 0.5 0.5 0.5 0.5 0.5 0.5 0.5 0.5 0.5 0.5 0.5 0.5 0.5 0.5\n",
      " 0.5 0.5 0.5 0.5 0.5 0.5 0.5 0.5 0.5 0.5 0.5 0.5 0.5 0.5 0.5 0.5 0.5 0.5\n",
      " 0.5 0.5 0.5 0.5 0.5 0.5 0.5 0.5 0.5 0.5 0.5 0.5 0.5 0.5 0.5 0.5 0.5 0.5\n",
      " 0.5 0.5 0.5 0.5 0.5 0.5 0.5 0.5 0.5 0.5 0.5 0.5 0.5 0.5 0.5 0.5 0.5 0.5\n",
      " 0.5 0.5 0.5 0.5 0.5 0.5 0.5 0.5 0.5 0.5 0.5 0.5 0.5 0.5 0.5 0.5 0.5 0.5\n",
      " 0.5 0.5 0.5 0.5 0.5 0.5 0.5 0.5 0.5 0.5 0.5 0.5 0.5 0.5 0.5 0.5 0.5 0.5\n",
      " 0.5 0.5 0.5 0.5 0.5 0.5 0.5 0.5 0.5 0.5 0.5 0.5 0.5 0.5 0.5 0.5 0.5 0.5\n",
      " 0.5 0.5 0.5 0.5 0.5 0.5 0.5 0.5 0.5 0.5 0.5 0.5 0.5 0.5 0.5 0.5 0.5 0.5\n",
      " 0.5 0.5 0.5 0.5 0.5 0.5 0.5 0.5 0.5 0.5 0.5 0.5 0.5 0.5 0.5 0.5 0.5 0.5\n",
      " 0.5 0.5 0.5 0.5 0.5 0.5 0.5 0.5 0.5 0.5 0.5 0.5 0.5 0.5 0.5 0.5 0.5 0.5\n",
      " 0.5 0.5 0.5 0.5 0.5 0.5 0.5 0.5 0.5 0.5 0.5 0.5 0.5 0.5 0.5 0.5 0.5 0.5\n",
      " 0.5 0.5 0.5 0.5 0.5 0.5 0.5 0.5 0.5 0.5 0.5 0.5 0.5 0.5 0.5 0.5 0.5 0.5\n",
      " 0.5 0.5 0.5 0.5 0.5 0.5 0.5 0.5 0.5 0.5 0.5 0.5 0.5 0.5 0.5 0.5 0.5 0.5\n",
      " 0.5 0.5 0.5 0.5 0.5 0.5 0.5 0.5 0.5 0.5 0.5 0.5 0.5 0.5 0.5 0.5 0.5 0.5\n",
      " 0.5 0.5 0.5 0.5 0.5 0.5 0.5 0.5 0.5 0.5 0.5 0.5 0.5 0.5 0.5 0.5 0.5 0.5\n",
      " 0.5 0.5 0.5 0.5 0.5 0.5 0.5 0.5 0.5 0.5 0.5 0.5 0.5 0.5 0.5 0.5 0.5 0.5\n",
      " 0.5 0.5 0.5 0.5 0.5 0.5 0.5 0.5 0.5 0.5 0.5 0.5 0.5 0.5 0.5 0.5 0.5 0.5\n",
      " 0.5 0.5 0.5 0.5 0.5 0.5 0.5 0.5 0.5 0.5 0.5 0.5 0.5 0.5 0.5 0.5 0.5 0.5\n",
      " 0.5 0.5 0.5 0.5 0.5 0.5 0.5 0.5 0.5 0.5 0.5 0.5 0.5 0.5 0.5 0.5 0.5 0.5\n",
      " 0.5 0.5 0.5 0.5 0.5 0.5 0.5 0.5 0.5 0.5 0.5 0.5 0.5 0.5 0.5 0.5 0.5 0.5\n",
      " 0.5 0.5 0.5 0.5 0.5 0.5 0.5 0.5 0.5 0.5 0.5 0.5 0.5 0.5 0.5 0.5 0.5 0.5\n",
      " 0.5 0.5 0.5 0.5 0.5 0.5 0.5 0.5 0.5 0.5 0.5 0.5 0.5 0.5 0.5 0.5 0.5 0.5\n",
      " 0.5 0.5 0.5 0.5 0.5 0.5 0.5 0.5 0.5 0.5 0.5 0.5 0.5 0.5 0.5 0.5 0.5 0.5\n",
      " 0.5 0.5 0.5 0.5 0.5 0.5 0.5 0.5 0.5 0.5 0.5 0.5 0.5 0.5 0.5 0.5 0.5 0.5\n",
      " 0.5 0.5 0.5 0.5 0.5 0.5 0.5 0.5 0.5 0.5 0.5 0.5 0.5 0.5 0.5 0.5 0.5 0.5\n",
      " 0.5 0.5 0.5 0.5 0.5 0.5 0.5 0.5 0.5 0.5 0.5 0.5 0.5 0.5 0.5 0.5 0.5 0.5\n",
      " 0.5 0.5 0.5 0.5 0.5 0.5 0.5 0.5 0.5 0.5 0.5 0.5 0.5 0.5 0.5 0.5 0.5 0.5\n",
      " 0.5 0.5 0.5 0.5 0.5 0.5 0.5 0.5 0.5 0.5 0.5 0.5 0.5 0.5 0.5 0.5 0.5 0.5\n",
      " 0.5 0.5 0.5 0.5 0.5 0.5 0.5 0.5 0.5 0.5 0.5 0.5 0.5 0.5 0.5 0.5 0.5 0.5\n",
      " 0.5 0.5 0.5 0.5 0.5 0.5 0.5 0.5 0.5 0.5 0.5 0.5 0.5 0.5 0.5 0.5 0.5 0.5\n",
      " 0.5 0.5 0.5 0.5 0.5 0.5 0.5 0.5 0.5 0.5 0.5 0.5 0.5 0.5 0.5 0.5 0.5 0.5\n",
      " 0.5 0.5 0.5 0.5 0.5 0.5 0.5 0.5 0.5 0.5 0.5 0.5 0.5 0.5 0.5 0.5 0.5 0.5\n",
      " 0.5 0.5 0.5 0.5 0.5 0.5 0.5 0.5 0.5 0.5 0.5 0.5 0.5 0.5 0.5 0.5 0.5 0.5\n",
      " 0.5 0.5 0.5 0.5 0.5 0.5 0.5 0.5 0.5 0.5 0.5 0.5 0.5 0.5 0.5 0.5 0.5 0.5\n",
      " 0.5 0.5 0.5 0.5 0.5 0.5 0.5 0.5 0.5 0.5 0.5 0.5 0.5 0.5 0.5 0.5 0.5 0.5\n",
      " 0.5 0.5 0.5 0.5 0.5 0.5 0.5 0.5 0.5 0.5 0.5 0.5 0.5 0.5 0.5 0.5 0.5 0.5\n",
      " 0.5 0.5 0.5 0.5 0.5 0.5 0.5 0.5 0.5 0.5 0.5 0.5 0.5 0.5 0.5 0.5 0.5 0.5\n",
      " 0.5 0.5 0.5 0.5 0.5 0.5 0.5 0.5 0.5 0.5 0.5 0.5 0.5 0.5 0.5 0.5 0.5 0.5\n",
      " 0.5 0.5 0.5 0.5 0.5 0.5 0.5 0.5 0.5 0.5 0.5 0.5 0.5 0.5 0.5 0.5 0.5 0.5\n",
      " 0.5 0.5 0.5 0.5 0.5 0.5 0.5 0.5 0.5 0.5 0.5 0.5 0.5 0.5 0.5 0.5 0.5 0.5\n",
      " 0.5 0.5 0.5 0.5 0.5 0.5 0.5 0.5 0.5 0.5 0.5 0.5 0.5 0.5 0.5 0.5 0.5 0.5\n",
      " 0.5 0.5 0.5 0.5 0.5 0.5 0.5 0.5 0.5 0.5 0.5 0.5 0.5 0.5 0.5 0.5 0.5 0.5\n",
      " 0.5 0.5 0.5 0.5 0.5 0.5 0.5 0.5 0.5 0.5 0.5 0.5 0.5 0.5 0.5 0.5 0.5 0.5\n",
      " 0.5 0.5 0.5 0.5 0.5 0.5 0.5 0.5 0.5 0.5 0.5 0.5 0.5 0.5 0.5 0.5 0.5 0.5\n",
      " 0.5 0.5 0.5 0.5 0.5 0.5 0.5 0.5 0.5 0.5 0.5 0.5 0.5 0.5 0.5 0.5 0.5 0.5\n",
      " 0.5 0.5 0.5 0.5 0.5 0.5 0.5 0.5 0.5 0.5 0.5 0.5 0.5 0.5 0.5 0.5 0.5 0.5\n",
      " 0.5 0.5 0.5 0.5 0.5 0.5 0.5 0.5 0.5 0.5 0.5 0.5 0.5 0.5 0.5 0.5 0.5 0.5\n",
      " 0.5 0.5 0.5 0.5 0.5 0.5 0.5 0.5 0.5 0.5 0.5 0.5 0.5 0.5 0.5 0.5 0.5 0.5\n",
      " 0.5 0.5 0.5 0.5 0.5 0.5 0.5 0.5 0.5 0.5 0.5 0.5 0.5 0.5 0.5 0.5 0.5 0.5\n",
      " 0.5 0.5 0.5 0.5 0.5 0.5 0.5 0.5 0.5 0.5 0.5 0.5 0.5 0.5 0.5 0.5 0.5 0.5\n",
      " 0.5 0.5 0.5 0.5 0.5 0.5 0.5 0.5 0.5 0.5 0.5 0.5 0.5 0.5 0.5 0.5 0.5 0.5\n",
      " 0.5 0.5 0.5 0.5 0.5 0.5 0.5 0.5 0.5 0.5 0.5 0.5 0.5 0.5 0.5 0.5 0.5 0.5\n",
      " 0.5 0.5 0.5 0.5 0.5 0.5 0.5 0.5 0.5 0.5]\n"
     ]
    }
   ],
   "source": [
    "change_x = lst[:,0][1:] - lst[:,0][:-1]\n",
    "\n",
    "change_y = lst[:,1][1:] - lst[:,1][:-1]\n",
    "\n",
    "gradient = change_y / change_x\n",
    "\n",
    "print(gradient)"
   ]
  },
  {
   "cell_type": "markdown",
   "id": "planned-blast",
   "metadata": {},
   "source": [
    "Since all elements in the result array are positive, we can conclude that the the line is moving up"
   ]
  },
  {
   "cell_type": "markdown",
   "id": "necessary-packet",
   "metadata": {},
   "source": [
    "Problem 4: Draw a graph"
   ]
  },
  {
   "cell_type": "markdown",
   "id": "purple-sauce",
   "metadata": {},
   "source": [
    "Graph of the function $y = \\frac{1}{2}x + 1$:"
   ]
  },
  {
   "cell_type": "code",
   "execution_count": 12,
   "id": "facial-jersey",
   "metadata": {},
   "outputs": [
    {
     "data": {
      "image/png": "[encoded data removed]",
      "text/plain": [
       "<Figure size 432x288 with 1 Axes>"
      ]
     },
     "metadata": {
      "needs_background": "light"
     },
     "output_type": "display_data"
    }
   ],
   "source": [
    "import matplotlib.pyplot as plt\n",
    "\n",
    "plt.plot(lst[:,0], lst[:,1])\n",
    "plt.title(r\"$y = \\frac{1}{2}x + 1$\")\n",
    "plt.xlabel(\"x\")\n",
    "plt.ylabel(\"y\")\n",
    "\n",
    "plt.show()"
   ]
  },
  {
   "cell_type": "markdown",
   "id": "peaceful-orbit",
   "metadata": {},
   "source": [
    "Graph with x on the horizontal axis and gradient on the vertical axis:"
   ]
  },
  {
   "cell_type": "code",
   "execution_count": 14,
   "id": "living-leeds",
   "metadata": {},
   "outputs": [
    {
     "data": {
      "image/png": "[encoded data removed]",
      "text/plain": [
       "<Figure size 432x288 with 1 Axes>"
      ]
     },
     "metadata": {
      "needs_background": "light"
     },
     "output_type": "display_data"
    }
   ],
   "source": [
    "plt.plot(lst[:,0][:-1], gradient)\n",
    "plt.title(r\"Gradient of $y = \\frac{1}{2}x + 1$\")\n",
    "plt.xlabel(\"x\")\n",
    "plt.ylabel(\"Gradient\")\n",
    "\n",
    "plt.show()"
   ]
  },
  {
   "cell_type": "markdown",
   "id": "northern-ozone",
   "metadata": {},
   "source": [
    "Problem 5: Python functionalization"
   ]
  },
  {
   "cell_type": "markdown",
   "id": "sophisticated-technical",
   "metadata": {},
   "source": [
    "Note: for the third function, we decided to take the range from 0 to 100 with 0.1 interval instead\n",
    "\n",
    "The compute gradient function:"
   ]
  },
  {
   "cell_type": "code",
   "execution_count": 15,
   "id": "judicial-product",
   "metadata": {},
   "outputs": [],
   "source": [
    "def compute_gradient(function, x_range = (-50, 50.1, 0.1)):\n",
    "    x = np.arange(x_range[0], x_range[1], x_range[2]).astype(float)\n",
    "    x = np.reshape(x, (-1, 1))\n",
    "\n",
    "    y = function(x)\n",
    "    \n",
    "    lst = np.concatenate((x, y), axis = 1)\n",
    "\n",
    "    change_x = lst[:,0][1:] - lst[:,0][:-1]\n",
    "    change_y = lst[:,1][1:] - lst[:,1][:-1]\n",
    "\n",
    "    gradient = change_y / change_x\n",
    "\n",
    "    return lst, gradient"
   ]
  },
  {
   "cell_type": "markdown",
   "id": "after-singapore",
   "metadata": {},
   "source": [
    "We defined the three functions which represent the three equations:"
   ]
  },
  {
   "cell_type": "code",
   "execution_count": 16,
   "id": "changed-station",
   "metadata": {},
   "outputs": [],
   "source": [
    "def function1(x):\n",
    "    y = pow(x, 2)\n",
    "    return y\n",
    "\n",
    "def function2(x):\n",
    "    y = 2 * pow(x, 2) + pow(2, x)\n",
    "    return y\n",
    "\n",
    "def function3(x):\n",
    "    y = np.sin(pow(x, 1 / 2))\n",
    "    return y"
   ]
  },
  {
   "cell_type": "markdown",
   "id": "automotive-affair",
   "metadata": {},
   "source": [
    "First equation $y = x^2$:"
   ]
  },
  {
   "cell_type": "code",
   "execution_count": 17,
   "id": "increased-bandwidth",
   "metadata": {},
   "outputs": [
    {
     "name": "stdout",
     "output_type": "stream",
     "text": [
      "Function 1 gradient: [-99.9 -99.7 -99.5 -99.3 -99.1 -98.9 -98.7 -98.5 -98.3 -98.1 -97.9 -97.7\n",
      " -97.5 -97.3 -97.1 -96.9 -96.7 -96.5 -96.3 -96.1 -95.9 -95.7 -95.5 -95.3\n",
      " -95.1 -94.9 -94.7 -94.5 -94.3 -94.1 -93.9 -93.7 -93.5 -93.3 -93.1 -92.9\n",
      " -92.7 -92.5 -92.3 -92.1 -91.9 -91.7 -91.5 -91.3 -91.1 -90.9 -90.7 -90.5\n",
      " -90.3 -90.1 -89.9 -89.7 -89.5 -89.3 -89.1 -88.9 -88.7 -88.5 -88.3 -88.1\n",
      " -87.9 -87.7 -87.5 -87.3 -87.1 -86.9 -86.7 -86.5 -86.3 -86.1 -85.9 -85.7\n",
      " -85.5 -85.3 -85.1 -84.9 -84.7 -84.5 -84.3 -84.1 -83.9 -83.7 -83.5 -83.3\n",
      " -83.1 -82.9 -82.7 -82.5 -82.3 -82.1 -81.9 -81.7 -81.5 -81.3 -81.1 -80.9\n",
      " -80.7 -80.5 -80.3 -80.1 -79.9 -79.7 -79.5 -79.3 -79.1 -78.9 -78.7 -78.5\n",
      " -78.3 -78.1 -77.9 -77.7 -77.5 -77.3 -77.1 -76.9 -76.7 -76.5 -76.3 -76.1\n",
      " -75.9 -75.7 -75.5 -75.3 -75.1 -74.9 -74.7 -74.5 -74.3 -74.1 -73.9 -73.7\n",
      " -73.5 -73.3 -73.1 -72.9 -72.7 -72.5 -72.3 -72.1 -71.9 -71.7 -71.5 -71.3\n",
      " -71.1 -70.9 -70.7 -70.5 -70.3 -70.1 -69.9 -69.7 -69.5 -69.3 -69.1 -68.9\n",
      " -68.7 -68.5 -68.3 -68.1 -67.9 -67.7 -67.5 -67.3 -67.1 -66.9 -66.7 -66.5\n",
      " -66.3 -66.1 -65.9 -65.7 -65.5 -65.3 -65.1 -64.9 -64.7 -64.5 -64.3 -64.1\n",
      " -63.9 -63.7 -63.5 -63.3 -63.1 -62.9 -62.7 -62.5 -62.3 -62.1 -61.9 -61.7\n",
      " -61.5 -61.3 -61.1 -60.9 -60.7 -60.5 -60.3 -60.1 -59.9 -59.7 -59.5 -59.3\n",
      " -59.1 -58.9 -58.7 -58.5 -58.3 -58.1 -57.9 -57.7 -57.5 -57.3 -57.1 -56.9\n",
      " -56.7 -56.5 -56.3 -56.1 -55.9 -55.7 -55.5 -55.3 -55.1 -54.9 -54.7 -54.5\n",
      " -54.3 -54.1 -53.9 -53.7 -53.5 -53.3 -53.1 -52.9 -52.7 -52.5 -52.3 -52.1\n",
      " -51.9 -51.7 -51.5 -51.3 -51.1 -50.9 -50.7 -50.5 -50.3 -50.1 -49.9 -49.7\n",
      " -49.5 -49.3 -49.1 -48.9 -48.7 -48.5 -48.3 -48.1 -47.9 -47.7 -47.5 -47.3\n",
      " -47.1 -46.9 -46.7 -46.5 -46.3 -46.1 -45.9 -45.7 -45.5 -45.3 -45.1 -44.9\n",
      " -44.7 -44.5 -44.3 -44.1 -43.9 -43.7 -43.5 -43.3 -43.1 -42.9 -42.7 -42.5\n",
      " -42.3 -42.1 -41.9 -41.7 -41.5 -41.3 -41.1 -40.9 -40.7 -40.5 -40.3 -40.1\n",
      " -39.9 -39.7 -39.5 -39.3 -39.1 -38.9 -38.7 -38.5 -38.3 -38.1 -37.9 -37.7\n",
      " -37.5 -37.3 -37.1 -36.9 -36.7 -36.5 -36.3 -36.1 -35.9 -35.7 -35.5 -35.3\n",
      " -35.1 -34.9 -34.7 -34.5 -34.3 -34.1 -33.9 -33.7 -33.5 -33.3 -33.1 -32.9\n",
      " -32.7 -32.5 -32.3 -32.1 -31.9 -31.7 -31.5 -31.3 -31.1 -30.9 -30.7 -30.5\n",
      " -30.3 -30.1 -29.9 -29.7 -29.5 -29.3 -29.1 -28.9 -28.7 -28.5 -28.3 -28.1\n",
      " -27.9 -27.7 -27.5 -27.3 -27.1 -26.9 -26.7 -26.5 -26.3 -26.1 -25.9 -25.7\n",
      " -25.5 -25.3 -25.1 -24.9 -24.7 -24.5 -24.3 -24.1 -23.9 -23.7 -23.5 -23.3\n",
      " -23.1 -22.9 -22.7 -22.5 -22.3 -22.1 -21.9 -21.7 -21.5 -21.3 -21.1 -20.9\n",
      " -20.7 -20.5 -20.3 -20.1 -19.9 -19.7 -19.5 -19.3 -19.1 -18.9 -18.7 -18.5\n",
      " -18.3 -18.1 -17.9 -17.7 -17.5 -17.3 -17.1 -16.9 -16.7 -16.5 -16.3 -16.1\n",
      " -15.9 -15.7 -15.5 -15.3 -15.1 -14.9 -14.7 -14.5 -14.3 -14.1 -13.9 -13.7\n",
      " -13.5 -13.3 -13.1 -12.9 -12.7 -12.5 -12.3 -12.1 -11.9 -11.7 -11.5 -11.3\n",
      " -11.1 -10.9 -10.7 -10.5 -10.3 -10.1  -9.9  -9.7  -9.5  -9.3  -9.1  -8.9\n",
      "  -8.7  -8.5  -8.3  -8.1  -7.9  -7.7  -7.5  -7.3  -7.1  -6.9  -6.7  -6.5\n",
      "  -6.3  -6.1  -5.9  -5.7  -5.5  -5.3  -5.1  -4.9  -4.7  -4.5  -4.3  -4.1\n",
      "  -3.9  -3.7  -3.5  -3.3  -3.1  -2.9  -2.7  -2.5  -2.3  -2.1  -1.9  -1.7\n",
      "  -1.5  -1.3  -1.1  -0.9  -0.7  -0.5  -0.3  -0.1   0.1   0.3   0.5   0.7\n",
      "   0.9   1.1   1.3   1.5   1.7   1.9   2.1   2.3   2.5   2.7   2.9   3.1\n",
      "   3.3   3.5   3.7   3.9   4.1   4.3   4.5   4.7   4.9   5.1   5.3   5.5\n",
      "   5.7   5.9   6.1   6.3   6.5   6.7   6.9   7.1   7.3   7.5   7.7   7.9\n",
      "   8.1   8.3   8.5   8.7   8.9   9.1   9.3   9.5   9.7   9.9  10.1  10.3\n",
      "  10.5  10.7  10.9  11.1  11.3  11.5  11.7  11.9  12.1  12.3  12.5  12.7\n",
      "  12.9  13.1  13.3  13.5  13.7  13.9  14.1  14.3  14.5  14.7  14.9  15.1\n",
      "  15.3  15.5  15.7  15.9  16.1  16.3  16.5  16.7  16.9  17.1  17.3  17.5\n",
      "  17.7  17.9  18.1  18.3  18.5  18.7  18.9  19.1  19.3  19.5  19.7  19.9\n",
      "  20.1  20.3  20.5  20.7  20.9  21.1  21.3  21.5  21.7  21.9  22.1  22.3\n",
      "  22.5  22.7  22.9  23.1  23.3  23.5  23.7  23.9  24.1  24.3  24.5  24.7\n",
      "  24.9  25.1  25.3  25.5  25.7  25.9  26.1  26.3  26.5  26.7  26.9  27.1\n",
      "  27.3  27.5  27.7  27.9  28.1  28.3  28.5  28.7  28.9  29.1  29.3  29.5\n",
      "  29.7  29.9  30.1  30.3  30.5  30.7  30.9  31.1  31.3  31.5  31.7  31.9\n",
      "  32.1  32.3  32.5  32.7  32.9  33.1  33.3  33.5  33.7  33.9  34.1  34.3\n",
      "  34.5  34.7  34.9  35.1  35.3  35.5  35.7  35.9  36.1  36.3  36.5  36.7\n",
      "  36.9  37.1  37.3  37.5  37.7  37.9  38.1  38.3  38.5  38.7  38.9  39.1\n",
      "  39.3  39.5  39.7  39.9  40.1  40.3  40.5  40.7  40.9  41.1  41.3  41.5\n",
      "  41.7  41.9  42.1  42.3  42.5  42.7  42.9  43.1  43.3  43.5  43.7  43.9\n",
      "  44.1  44.3  44.5  44.7  44.9  45.1  45.3  45.5  45.7  45.9  46.1  46.3\n",
      "  46.5  46.7  46.9  47.1  47.3  47.5  47.7  47.9  48.1  48.3  48.5  48.7\n",
      "  48.9  49.1  49.3  49.5  49.7  49.9  50.1  50.3  50.5  50.7  50.9  51.1\n",
      "  51.3  51.5  51.7  51.9  52.1  52.3  52.5  52.7  52.9  53.1  53.3  53.5\n",
      "  53.7  53.9  54.1  54.3  54.5  54.7  54.9  55.1  55.3  55.5  55.7  55.9\n",
      "  56.1  56.3  56.5  56.7  56.9  57.1  57.3  57.5  57.7  57.9  58.1  58.3\n",
      "  58.5  58.7  58.9  59.1  59.3  59.5  59.7  59.9  60.1  60.3  60.5  60.7\n",
      "  60.9  61.1  61.3  61.5  61.7  61.9  62.1  62.3  62.5  62.7  62.9  63.1\n",
      "  63.3  63.5  63.7  63.9  64.1  64.3  64.5  64.7  64.9  65.1  65.3  65.5\n",
      "  65.7  65.9  66.1  66.3  66.5  66.7  66.9  67.1  67.3  67.5  67.7  67.9\n",
      "  68.1  68.3  68.5  68.7  68.9  69.1  69.3  69.5  69.7  69.9  70.1  70.3\n",
      "  70.5  70.7  70.9  71.1  71.3  71.5  71.7  71.9  72.1  72.3  72.5  72.7\n",
      "  72.9  73.1  73.3  73.5  73.7  73.9  74.1  74.3  74.5  74.7  74.9  75.1\n",
      "  75.3  75.5  75.7  75.9  76.1  76.3  76.5  76.7  76.9  77.1  77.3  77.5\n",
      "  77.7  77.9  78.1  78.3  78.5  78.7  78.9  79.1  79.3  79.5  79.7  79.9\n",
      "  80.1  80.3  80.5  80.7  80.9  81.1  81.3  81.5  81.7  81.9  82.1  82.3\n",
      "  82.5  82.7  82.9  83.1  83.3  83.5  83.7  83.9  84.1  84.3  84.5  84.7\n",
      "  84.9  85.1  85.3  85.5  85.7  85.9  86.1  86.3  86.5  86.7  86.9  87.1\n",
      "  87.3  87.5  87.7  87.9  88.1  88.3  88.5  88.7  88.9  89.1  89.3  89.5\n",
      "  89.7  89.9  90.1  90.3  90.5  90.7  90.9  91.1  91.3  91.5  91.7  91.9\n",
      "  92.1  92.3  92.5  92.7  92.9  93.1  93.3  93.5  93.7  93.9  94.1  94.3\n",
      "  94.5  94.7  94.9  95.1  95.3  95.5  95.7  95.9  96.1  96.3  96.5  96.7\n",
      "  96.9  97.1  97.3  97.5  97.7  97.9  98.1  98.3  98.5  98.7  98.9  99.1\n",
      "  99.3  99.5  99.7  99.9]\n"
     ]
    }
   ],
   "source": [
    "lst1, gradient1 = compute_gradient(function1)\n",
    "\n",
    "print(\"Function 1 gradient: {}\".format(gradient1))"
   ]
  },
  {
   "cell_type": "code",
   "execution_count": 18,
   "id": "premier-compilation",
   "metadata": {},
   "outputs": [
    {
     "data": {
      "image/png": "[encoded data removed]",
      "text/plain": [
       "<Figure size 432x288 with 1 Axes>"
      ]
     },
     "metadata": {
      "needs_background": "light"
     },
     "output_type": "display_data"
    }
   ],
   "source": [
    "plt.plot(lst1[:,0], lst1[:,1])\n",
    "plt.title(r\"$y = x^2$\")\n",
    "plt.xlabel(\"x\")\n",
    "plt.ylabel(\"y\")\n",
    "\n",
    "plt.show()"
   ]
  },
  {
   "cell_type": "code",
   "execution_count": 19,
   "id": "animated-mountain",
   "metadata": {},
   "outputs": [
    {
     "data": {
      "image/png": "[encoded data removed]",
      "text/plain": [
       "<Figure size 432x288 with 1 Axes>"
      ]
     },
     "metadata": {
      "needs_background": "light"
     },
     "output_type": "display_data"
    }
   ],
   "source": [
    "plt.plot(lst1[:,0][:-1], gradient1)\n",
    "plt.title(r\"Gradient of $y = x^2$\")\n",
    "plt.xlabel(\"x\")\n",
    "plt.ylabel(\"Gradient\")\n",
    "\n",
    "plt.show()"
   ]
  },
  {
   "cell_type": "markdown",
   "id": "latter-design",
   "metadata": {},
   "source": [
    "Second equation $y = 2x^2 + 2^x$:"
   ]
  },
  {
   "cell_type": "code",
   "execution_count": 20,
   "id": "ongoing-flesh",
   "metadata": {},
   "outputs": [
    {
     "name": "stdout",
     "output_type": "stream",
     "text": [
      "Function 2 gradient: [-1.99800000e+02 -1.99400000e+02 -1.99000000e+02 -1.98600000e+02\n",
      " -1.98200000e+02 -1.97800000e+02 -1.97400000e+02 -1.97000000e+02\n",
      " -1.96600000e+02 -1.96200000e+02 -1.95800000e+02 -1.95400000e+02\n",
      " -1.95000000e+02 -1.94600000e+02 -1.94200000e+02 -1.93800000e+02\n",
      " -1.93400000e+02 -1.93000000e+02 -1.92600000e+02 -1.92200000e+02\n",
      " -1.91800000e+02 -1.91400000e+02 -1.91000000e+02 -1.90600000e+02\n",
      " -1.90200000e+02 -1.89800000e+02 -1.89400000e+02 -1.89000000e+02\n",
      " -1.88600000e+02 -1.88200000e+02 -1.87800000e+02 -1.87400000e+02\n",
      " -1.87000000e+02 -1.86600000e+02 -1.86200000e+02 -1.85800000e+02\n",
      " -1.85400000e+02 -1.85000000e+02 -1.84600000e+02 -1.84200000e+02\n",
      " -1.83800000e+02 -1.83400000e+02 -1.83000000e+02 -1.82600000e+02\n",
      " -1.82200000e+02 -1.81800000e+02 -1.81400000e+02 -1.81000000e+02\n",
      " -1.80600000e+02 -1.80200000e+02 -1.79800000e+02 -1.79400000e+02\n",
      " -1.79000000e+02 -1.78600000e+02 -1.78200000e+02 -1.77800000e+02\n",
      " -1.77400000e+02 -1.77000000e+02 -1.76600000e+02 -1.76200000e+02\n",
      " -1.75800000e+02 -1.75400000e+02 -1.75000000e+02 -1.74600000e+02\n",
      " -1.74200000e+02 -1.73800000e+02 -1.73400000e+02 -1.73000000e+02\n",
      " -1.72600000e+02 -1.72200000e+02 -1.71800000e+02 -1.71400000e+02\n",
      " -1.71000000e+02 -1.70600000e+02 -1.70200000e+02 -1.69800000e+02\n",
      " -1.69400000e+02 -1.69000000e+02 -1.68600000e+02 -1.68200000e+02\n",
      " -1.67800000e+02 -1.67400000e+02 -1.67000000e+02 -1.66600000e+02\n",
      " -1.66200000e+02 -1.65800000e+02 -1.65400000e+02 -1.65000000e+02\n",
      " -1.64600000e+02 -1.64200000e+02 -1.63800000e+02 -1.63400000e+02\n",
      " -1.63000000e+02 -1.62600000e+02 -1.62200000e+02 -1.61800000e+02\n",
      " -1.61400000e+02 -1.61000000e+02 -1.60600000e+02 -1.60200000e+02\n",
      " -1.59800000e+02 -1.59400000e+02 -1.59000000e+02 -1.58600000e+02\n",
      " -1.58200000e+02 -1.57800000e+02 -1.57400000e+02 -1.57000000e+02\n",
      " -1.56600000e+02 -1.56200000e+02 -1.55800000e+02 -1.55400000e+02\n",
      " -1.55000000e+02 -1.54600000e+02 -1.54200000e+02 -1.53800000e+02\n",
      " -1.53400000e+02 -1.53000000e+02 -1.52600000e+02 -1.52200000e+02\n",
      " -1.51800000e+02 -1.51400000e+02 -1.51000000e+02 -1.50600000e+02\n",
      " -1.50200000e+02 -1.49800000e+02 -1.49400000e+02 -1.49000000e+02\n",
      " -1.48600000e+02 -1.48200000e+02 -1.47800000e+02 -1.47400000e+02\n",
      " -1.47000000e+02 -1.46600000e+02 -1.46200000e+02 -1.45800000e+02\n",
      " -1.45400000e+02 -1.45000000e+02 -1.44600000e+02 -1.44200000e+02\n",
      " -1.43800000e+02 -1.43400000e+02 -1.43000000e+02 -1.42600000e+02\n",
      " -1.42200000e+02 -1.41800000e+02 -1.41400000e+02 -1.41000000e+02\n",
      " -1.40600000e+02 -1.40200000e+02 -1.39800000e+02 -1.39400000e+02\n",
      " -1.39000000e+02 -1.38600000e+02 -1.38200000e+02 -1.37800000e+02\n",
      " -1.37400000e+02 -1.37000000e+02 -1.36600000e+02 -1.36200000e+02\n",
      " -1.35800000e+02 -1.35400000e+02 -1.35000000e+02 -1.34600000e+02\n",
      " -1.34200000e+02 -1.33800000e+02 -1.33400000e+02 -1.33000000e+02\n",
      " -1.32600000e+02 -1.32200000e+02 -1.31800000e+02 -1.31400000e+02\n",
      " -1.31000000e+02 -1.30600000e+02 -1.30200000e+02 -1.29800000e+02\n",
      " -1.29400000e+02 -1.29000000e+02 -1.28600000e+02 -1.28200000e+02\n",
      " -1.27800000e+02 -1.27400000e+02 -1.27000000e+02 -1.26600000e+02\n",
      " -1.26200000e+02 -1.25800000e+02 -1.25400000e+02 -1.25000000e+02\n",
      " -1.24600000e+02 -1.24200000e+02 -1.23800000e+02 -1.23400000e+02\n",
      " -1.23000000e+02 -1.22600000e+02 -1.22200000e+02 -1.21800000e+02\n",
      " -1.21400000e+02 -1.21000000e+02 -1.20600000e+02 -1.20200000e+02\n",
      " -1.19800000e+02 -1.19400000e+02 -1.19000000e+02 -1.18600000e+02\n",
      " -1.18200000e+02 -1.17800000e+02 -1.17400000e+02 -1.17000000e+02\n",
      " -1.16600000e+02 -1.16200000e+02 -1.15800000e+02 -1.15400000e+02\n",
      " -1.15000000e+02 -1.14600000e+02 -1.14200000e+02 -1.13800000e+02\n",
      " -1.13400000e+02 -1.13000000e+02 -1.12600000e+02 -1.12200000e+02\n",
      " -1.11800000e+02 -1.11400000e+02 -1.11000000e+02 -1.10600000e+02\n",
      " -1.10200000e+02 -1.09800000e+02 -1.09400000e+02 -1.09000000e+02\n",
      " -1.08600000e+02 -1.08200000e+02 -1.07800000e+02 -1.07400000e+02\n",
      " -1.07000000e+02 -1.06600000e+02 -1.06200000e+02 -1.05800000e+02\n",
      " -1.05400000e+02 -1.05000000e+02 -1.04600000e+02 -1.04200000e+02\n",
      " -1.03800000e+02 -1.03400000e+02 -1.03000000e+02 -1.02600000e+02\n",
      " -1.02200000e+02 -1.01800000e+02 -1.01400000e+02 -1.01000000e+02\n",
      " -1.00600000e+02 -1.00200000e+02 -9.98000000e+01 -9.94000000e+01\n",
      " -9.90000000e+01 -9.86000000e+01 -9.82000000e+01 -9.78000000e+01\n",
      " -9.74000000e+01 -9.70000000e+01 -9.66000000e+01 -9.62000000e+01\n",
      " -9.58000000e+01 -9.54000000e+01 -9.50000000e+01 -9.45999999e+01\n",
      " -9.41999999e+01 -9.37999999e+01 -9.33999999e+01 -9.29999999e+01\n",
      " -9.25999999e+01 -9.21999999e+01 -9.17999999e+01 -9.13999999e+01\n",
      " -9.09999999e+01 -9.05999999e+01 -9.01999999e+01 -8.97999999e+01\n",
      " -8.93999999e+01 -8.89999999e+01 -8.85999999e+01 -8.81999998e+01\n",
      " -8.77999998e+01 -8.73999998e+01 -8.69999998e+01 -8.65999998e+01\n",
      " -8.61999998e+01 -8.57999998e+01 -8.53999997e+01 -8.49999997e+01\n",
      " -8.45999997e+01 -8.41999997e+01 -8.37999997e+01 -8.33999996e+01\n",
      " -8.29999996e+01 -8.25999996e+01 -8.21999995e+01 -8.17999995e+01\n",
      " -8.13999995e+01 -8.09999994e+01 -8.05999994e+01 -8.01999994e+01\n",
      " -7.97999993e+01 -7.93999993e+01 -7.89999992e+01 -7.85999992e+01\n",
      " -7.81999991e+01 -7.77999990e+01 -7.73999990e+01 -7.69999989e+01\n",
      " -7.65999988e+01 -7.61999987e+01 -7.57999986e+01 -7.53999985e+01\n",
      " -7.49999984e+01 -7.45999983e+01 -7.41999982e+01 -7.37999981e+01\n",
      " -7.33999979e+01 -7.29999978e+01 -7.25999976e+01 -7.21999974e+01\n",
      " -7.17999973e+01 -7.13999971e+01 -7.09999969e+01 -7.05999966e+01\n",
      " -7.01999964e+01 -6.97999961e+01 -6.93999959e+01 -6.89999956e+01\n",
      " -6.85999952e+01 -6.81999949e+01 -6.77999945e+01 -6.73999941e+01\n",
      " -6.69999937e+01 -6.65999933e+01 -6.61999928e+01 -6.57999923e+01\n",
      " -6.53999917e+01 -6.49999911e+01 -6.45999905e+01 -6.41999898e+01\n",
      " -6.37999890e+01 -6.33999883e+01 -6.29999874e+01 -6.25999865e+01\n",
      " -6.21999855e+01 -6.17999845e+01 -6.13999834e+01 -6.09999822e+01\n",
      " -6.05999809e+01 -6.01999796e+01 -5.97999781e+01 -5.93999765e+01\n",
      " -5.89999748e+01 -5.85999730e+01 -5.81999711e+01 -5.77999690e+01\n",
      " -5.73999668e+01 -5.69999644e+01 -5.65999619e+01 -5.61999591e+01\n",
      " -5.57999562e+01 -5.53999530e+01 -5.49999497e+01 -5.45999461e+01\n",
      " -5.41999422e+01 -5.37999380e+01 -5.33999336e+01 -5.29999288e+01\n",
      " -5.25999237e+01 -5.21999183e+01 -5.17999124e+01 -5.13999061e+01\n",
      " -5.09998994e+01 -5.05998921e+01 -5.01998844e+01 -4.97998761e+01\n",
      " -4.93998672e+01 -4.89998577e+01 -4.85998475e+01 -4.81998365e+01\n",
      " -4.77998248e+01 -4.73998122e+01 -4.69997987e+01 -4.65997843e+01\n",
      " -4.61997688e+01 -4.57997522e+01 -4.53997344e+01 -4.49997153e+01\n",
      " -4.45996949e+01 -4.41996730e+01 -4.37996495e+01 -4.33996244e+01\n",
      " -4.29995974e+01 -4.25995685e+01 -4.21995376e+01 -4.17995044e+01\n",
      " -4.13994688e+01 -4.09994307e+01 -4.05993898e+01 -4.01993460e+01\n",
      " -3.97992991e+01 -3.93992488e+01 -3.89991949e+01 -3.85991371e+01\n",
      " -3.81990751e+01 -3.77990088e+01 -3.73989376e+01 -3.69988614e+01\n",
      " -3.65987796e+01 -3.61986921e+01 -3.57985982e+01 -3.53984976e+01\n",
      " -3.49983897e+01 -3.45982742e+01 -3.41981503e+01 -3.37980175e+01\n",
      " -3.33978752e+01 -3.29977227e+01 -3.25975593e+01 -3.21973841e+01\n",
      " -3.17971963e+01 -3.13969951e+01 -3.09967795e+01 -3.05965483e+01\n",
      " -3.01963006e+01 -2.97960350e+01 -2.93957505e+01 -2.89954455e+01\n",
      " -2.85951186e+01 -2.81947682e+01 -2.77943927e+01 -2.73939902e+01\n",
      " -2.69935589e+01 -2.65930966e+01 -2.61926011e+01 -2.57920701e+01\n",
      " -2.53915009e+01 -2.49908909e+01 -2.45902371e+01 -2.41895364e+01\n",
      " -2.37887854e+01 -2.33879805e+01 -2.29871178e+01 -2.25861932e+01\n",
      " -2.21852022e+01 -2.17841402e+01 -2.13830018e+01 -2.09817818e+01\n",
      " -2.05804742e+01 -2.01790728e+01 -1.97775708e+01 -1.93759610e+01\n",
      " -1.89742356e+01 -1.85723864e+01 -1.81704045e+01 -1.77682803e+01\n",
      " -1.73660037e+01 -1.69635636e+01 -1.65609485e+01 -1.61581456e+01\n",
      " -1.57551416e+01 -1.53519219e+01 -1.49484712e+01 -1.45447728e+01\n",
      " -1.41408090e+01 -1.37365606e+01 -1.33320074e+01 -1.29271273e+01\n",
      " -1.25218970e+01 -1.21162912e+01 -1.17102832e+01 -1.13038439e+01\n",
      " -1.08969424e+01 -1.04895456e+01 -1.00816179e+01 -9.67312124e+00\n",
      " -9.26401472e+00 -8.85425458e+00 -8.44379393e+00 -8.03258248e+00\n",
      " -7.62056634e+00 -7.20768777e+00 -6.79388485e+00 -6.37909126e+00\n",
      " -5.96323587e+00 -5.54624249e+00 -5.12802943e+00 -4.70850917e+00\n",
      " -4.28758786e+00 -3.86516496e+00 -3.44113269e+00 -3.01537554e+00\n",
      " -2.58776971e+00 -2.15818251e+00 -1.72647174e+00 -1.29248498e+00\n",
      " -8.56058869e-01 -4.17018331e-01  2.48242824e-02  4.69670085e-01\n",
      "  9.17734625e-01  1.36924892e+00  1.82446058e+00  2.28363497e+00\n",
      "  2.74705652e+00  3.21503004e+00  3.68788226e+00  4.16596334e+00\n",
      "  4.64964856e+00  5.13934017e+00  5.63546925e+00  6.13849785e+00\n",
      "  6.64892117e+00  7.16726995e+00  7.69411303e+00  8.23006008e+00\n",
      "  8.77576452e+00  9.33192668e+00  9.89929713e+00  1.04786803e+01\n",
      "  1.10709385e+01  1.16769957e+01  1.22978423e+01  1.29345399e+01\n",
      "  1.35882261e+01  1.42601202e+01  1.49515290e+01  1.56638534e+01\n",
      "  1.63985943e+01  1.71573607e+01  1.79418770e+01  1.87539914e+01\n",
      "  1.95956847e+01  2.04690798e+01  2.13764521e+01  2.23202403e+01\n",
      "  2.33030581e+01  2.43277067e+01  2.53971885e+01  2.65147214e+01\n",
      "  2.76837540e+01  2.89079828e+01  3.01913693e+01  3.15381596e+01\n",
      "  3.29529043e+01  3.44404807e+01  3.60061162e+01  3.76554134e+01\n",
      "  3.93943770e+01  4.12294427e+01  4.31675080e+01  4.52159656e+01\n",
      "  4.73827387e+01  4.96763192e+01  5.21058085e+01  5.46809613e+01\n",
      "  5.74122324e+01  6.03108268e+01  6.33887541e+01  6.66588854e+01\n",
      "  7.01350160e+01  7.38319312e+01  7.77654773e+01  8.19526384e+01\n",
      "  8.64116170e+01  9.11619226e+01  9.62244648e+01  1.01621654e+02\n",
      "  1.07377508e+02  1.13517771e+02  1.20070032e+02  1.27063862e+02\n",
      "  1.34530955e+02  1.42505277e+02  1.51023234e+02  1.60123845e+02\n",
      "  1.69848930e+02  1.80243307e+02  1.91355016e+02  2.03235542e+02\n",
      "  2.15940064e+02  2.29527725e+02  2.44061909e+02  2.59610553e+02\n",
      "  2.76246468e+02  2.94047691e+02  3.13097859e+02  3.33486615e+02\n",
      "  3.55310033e+02  3.78671083e+02  4.03680128e+02  4.30455449e+02\n",
      "  4.59123819e+02  4.89821107e+02  5.22692936e+02  5.57895381e+02\n",
      "  5.95595718e+02  6.35973229e+02  6.79220065e+02  7.25542167e+02\n",
      "  7.75160256e+02  8.28310899e+02  8.85247637e+02  9.46242214e+02\n",
      "  1.01158587e+03  1.08159076e+03  1.15659144e+03  1.23694646e+03\n",
      "  1.32304013e+03  1.41528433e+03  1.51412051e+03  1.62002180e+03\n",
      "  1.73349527e+03  1.85508443e+03  1.98537174e+03  2.12498152e+03\n",
      "  2.27458287e+03  2.43489292e+03  2.60668026e+03  2.79076867e+03\n",
      "  2.98804103e+03  3.19944360e+03  3.42599055e+03  3.66876885e+03\n",
      "  3.92894349e+03  4.20776305e+03  4.50656575e+03  4.82678584e+03\n",
      "  5.16996052e+03  5.53773733e+03  5.93188205e+03  6.35428719e+03\n",
      "  6.80698110e+03  7.29213771e+03  7.81208698e+03  8.36932610e+03\n",
      "  8.96653149e+03  9.60657167e+03  1.02925210e+04  1.10276747e+04\n",
      "  1.18155641e+04  1.26599744e+04  1.35649622e+04  1.45348754e+04\n",
      "  1.55743740e+04  1.66884522e+04  1.78824630e+04  1.91621433e+04\n",
      "  2.05336421e+04  2.20035493e+04  2.35789282e+04  2.52673488e+04\n",
      "  2.70769244e+04  2.90163508e+04  3.10949479e+04  3.33227044e+04\n",
      "  3.57103260e+04  3.82692867e+04  4.10118842e+04  4.39512987e+04\n",
      "  4.71016564e+04  5.04780975e+04  5.40968488e+04  5.79753017e+04\n",
      "  6.21320958e+04  6.65872088e+04  7.13620519e+04  7.64795734e+04\n",
      "  8.19643683e+04  8.78427973e+04  9.41431128e+04  1.00895595e+05\n",
      "  1.08132698e+05  1.15889203e+05  1.24202392e+05  1.33112218e+05\n",
      "  1.42661504e+05  1.52896147e+05  1.63865337e+05  1.75621795e+05\n",
      "  1.88222026e+05  2.01726590e+05  2.16200395e+05  2.31713007e+05\n",
      "  2.48338983e+05  2.66158235e+05  2.85256408e+05  3.05725293e+05\n",
      "  3.27663273e+05  3.51175789e+05  3.76375851e+05  4.03384580e+05\n",
      "  4.32331790e+05  4.63356613e+05  4.96608167e+05  5.32246270e+05\n",
      "  5.70442215e+05  6.11379587e+05  6.55255147e+05  7.02279779e+05\n",
      "  7.52679503e+05  8.06696560e+05  8.64590581e+05  9.26639827e+05\n",
      "  9.93142533e+05  1.06441834e+06  1.14080983e+06  1.22268417e+06\n",
      "  1.31043489e+06  1.40448376e+06  1.50528281e+06  1.61331652e+06\n",
      "  1.72910416e+06  1.85320225e+06  1.98620727e+06  2.12875848e+06\n",
      "  2.28154106e+06  2.44528935e+06  2.62079039e+06  2.80888771e+06\n",
      "  3.01048541e+06  3.22655244e+06  3.45812732e+06  3.70632311e+06\n",
      "  3.97233273e+06  4.25743476e+06  4.56299952e+06  4.89049570e+06\n",
      "  5.24149737e+06  5.61769163e+06  6.02088662e+06  6.45302028e+06\n",
      "  6.91616965e+06  7.41256081e+06  7.94457967e+06  8.51478333e+06\n",
      "  9.12591245e+06  9.78090439e+06  1.04829073e+07  1.12352955e+07\n",
      "  1.20416850e+07  1.29059520e+07  1.38322503e+07  1.48250322e+07\n",
      "  1.58890695e+07  1.70294765e+07  1.82517343e+07  1.95617178e+07\n",
      "  2.09657233e+07  2.24704991e+07  2.40832779e+07  2.58118113e+07\n",
      "  2.76644076e+07  2.96499711e+07  3.17780453e+07  3.40588587e+07\n",
      "  3.65033740e+07  3.91233406e+07  4.19313512e+07  4.49409024e+07\n",
      "  4.81664596e+07  5.16235261e+07  5.53287182e+07  5.92998447e+07\n",
      "  6.35559927e+07  6.81176192e+07  7.30066494e+07  7.82465821e+07\n",
      "  8.38626030e+07  8.98817051e+07  9.63328189e+07  1.03246952e+08\n",
      "  1.10657335e+08  1.18599588e+08  1.27111884e+08  1.36235136e+08\n",
      "  1.46013196e+08  1.56493061e+08  1.67725103e+08  1.79763306e+08\n",
      "  1.92665534e+08  2.06493798e+08  2.21314566e+08  2.37199071e+08\n",
      "  2.54223662e+08  2.72470166e+08  2.92026286e+08  3.12986016e+08\n",
      "  3.35450098e+08  3.59526505e+08  3.85330959e+08  4.12987488e+08\n",
      "  4.42629022e+08  4.74398032e+08  5.08447213e+08  5.44940222e+08\n",
      "  5.84052461e+08  6.25971920e+08  6.70900084e+08  7.19052898e+08\n",
      "  7.70661806e+08  8.25974864e+08  8.85257932e+08  9.48795950e+08\n",
      "  1.01689431e+09  1.08988033e+09  1.16810481e+09  1.25194373e+09\n",
      "  1.34180005e+09  1.43810568e+09  1.54132350e+09  1.65194961e+09\n",
      "  1.77051575e+09  1.89759178e+09  2.03378851e+09  2.17976054e+09\n",
      "  2.33620950e+09  2.50388733e+09  2.68359999e+09  2.87621124e+09\n",
      "  3.08264687e+09  3.30389910e+09  3.54103137e+09  3.79518345e+09\n",
      "  4.06757689e+09  4.35952096e+09  4.67241887e+09  5.00777454e+09\n",
      "  5.36719985e+09  5.75242236e+09  6.16529362e+09  6.60779808e+09\n",
      "  7.08206262e+09  7.59036677e+09  8.13515366e+09  8.71904180e+09\n",
      "  9.34483761e+09  1.00155490e+10  1.07343996e+10  1.15048446e+10\n",
      "  1.23305871e+10  1.32155960e+10  1.41641251e+10  1.51807334e+10\n",
      "  1.62703072e+10  1.74380835e+10  1.86896751e+10  2.00310978e+10\n",
      "  2.14687990e+10  2.30096890e+10  2.46611741e+10  2.64311919e+10\n",
      "  2.83282501e+10  3.03614667e+10  3.25406143e+10  3.48761668e+10\n",
      "  3.73793500e+10  4.00621954e+10  4.29375979e+10  4.60193779e+10\n",
      "  4.93223480e+10  5.28623837e+10  5.66565000e+10  6.07229332e+10\n",
      "  6.50812284e+10  6.97523335e+10  7.47586999e+10  8.01243907e+10\n",
      "  8.58751956e+10  9.20387558e+10  9.86446959e+10  1.05724767e+11\n",
      "  1.13313000e+11  1.21445866e+11  1.30162457e+11  1.39504667e+11\n",
      "  1.49517400e+11  1.60248781e+11  1.71750391e+11  1.84077511e+11\n",
      "  1.97289392e+11  2.11449534e+11  2.26626000e+11  2.42891732e+11\n",
      "  2.60324913e+11  2.79009333e+11  2.99034799e+11  3.20497562e+11\n",
      "  3.43500782e+11  3.68155023e+11  3.94578783e+11  4.22899069e+11\n",
      "  4.53251999e+11  4.85783465e+11  5.20649826e+11  5.58018667e+11\n",
      "  5.98069599e+11  6.40995124e+11  6.87001564e+11  7.36310045e+11\n",
      "  7.89157566e+11  8.45798137e+11  9.06503998e+11  9.71566929e+11\n",
      "  1.04129965e+12  1.11603733e+12  1.19613920e+12  1.28199025e+12\n",
      "  1.37400313e+12  1.47262009e+12  1.57831513e+12  1.69159627e+12\n",
      "  1.81300800e+12  1.94313386e+12  2.08259930e+12  2.23207467e+12\n",
      "  2.39227839e+12  2.56398050e+12  2.74800626e+12  2.94524018e+12\n",
      "  3.15663027e+12  3.38319255e+12  3.62601599e+12  3.88626772e+12\n",
      "  4.16519861e+12  4.46414933e+12  4.78455679e+12  5.12796099e+12\n",
      "  5.49601251e+12  5.89048036e+12  6.31326053e+12  6.76638510e+12\n",
      "  7.25203199e+12  7.77253543e+12  8.33039721e+12  8.92829866e+12\n",
      "  9.56911357e+12  1.02559220e+13  1.09920250e+13  1.17809607e+13\n",
      "  1.26265211e+13  1.35327702e+13  1.45040640e+13  1.55450709e+13\n",
      "  1.66607944e+13  1.78565973e+13  1.91382271e+13  2.05118440e+13\n",
      "  2.19840500e+13  2.35619214e+13  2.52530421e+13  2.70655404e+13\n",
      "  2.90081279e+13  3.10901417e+13  3.33215888e+13  3.57131947e+13\n",
      "  3.82764543e+13  4.10236880e+13  4.39681001e+13  4.71238429e+13\n",
      "  5.05060842e+13  5.41310808e+13  5.80162559e+13  6.21802835e+13\n",
      "  6.66431777e+13  7.14263893e+13  7.65529086e+13  8.20473759e+13\n",
      "  8.79362002e+13  9.42476857e+13  1.01012168e+14  1.08262162e+14\n",
      "  1.16032512e+14  1.24360567e+14  1.33286355e+14  1.42852779e+14\n",
      "  1.53105817e+14  1.64094752e+14  1.75872400e+14  1.88495371e+14\n",
      "  2.02024337e+14  2.16524323e+14  2.32065024e+14  2.48721134e+14\n",
      "  2.66572711e+14  2.85705557e+14  3.06211634e+14  3.28189504e+14\n",
      "  3.51744801e+14  3.76990743e+14  4.04048674e+14  4.33048646e+14\n",
      "  4.64130047e+14  4.97442268e+14  5.33145422e+14  5.71411115e+14\n",
      "  6.12423269e+14  6.56379007e+14  7.03489601e+14  7.53981486e+14]\n"
     ]
    }
   ],
   "source": [
    "lst2, gradient2 = compute_gradient(function2)\n",
    "\n",
    "print(\"Function 2 gradient: {}\".format(gradient2))"
   ]
  },
  {
   "cell_type": "code",
   "execution_count": 42,
   "id": "sexual-swiss",
   "metadata": {},
   "outputs": [
    {
     "data": {
      "image/png": "[encoded data removed]",
      "text/plain": [
       "<Figure size 432x288 with 1 Axes>"
      ]
     },
     "metadata": {
      "needs_background": "light"
     },
     "output_type": "display_data"
    }
   ],
   "source": [
    "plt.plot(lst2[:,0], lst2[:,1])\n",
    "plt.title(r\"$y = 2x^2 + 2^x$\")\n",
    "plt.xlabel(\"x\")\n",
    "plt.ylabel(\"y\")\n",
    "\n",
    "plt.show()"
   ]
  },
  {
   "cell_type": "code",
   "execution_count": 23,
   "id": "golden-local",
   "metadata": {},
   "outputs": [
    {
     "data": {
      "image/png": "[encoded data removed]",
      "text/plain": [
       "<Figure size 432x288 with 1 Axes>"
      ]
     },
     "metadata": {
      "needs_background": "light"
     },
     "output_type": "display_data"
    }
   ],
   "source": [
    "plt.plot(lst2[:,0][:-1], gradient2)\n",
    "plt.title(r\"Gradient of $y = 2x^2 + 2^x$\")\n",
    "plt.xlabel(\"x\")\n",
    "plt.ylabel(\"Gradient\")\n",
    "\n",
    "plt.show()"
   ]
  },
  {
   "cell_type": "markdown",
   "id": "green-stopping",
   "metadata": {},
   "source": [
    "Third equation $y = sin(x^{\\frac{1}{2}})$:"
   ]
  },
  {
   "cell_type": "code",
   "execution_count": 24,
   "id": "guided-hotel",
   "metadata": {},
   "outputs": [
    {
     "name": "stdout",
     "output_type": "stream",
     "text": [
      "Function 3 gradient: [ 3.10983593e+00  1.21471246e+00  8.82894606e-01  7.03828177e-01\n",
      "  5.85098219e-01  4.97909314e-01  4.29817921e-01  3.74409878e-01\n",
      "  3.27982463e-01  2.88220882e-01  2.53589429e-01  2.23021164e-01\n",
      "  1.95746946e-01  1.71195280e-01  1.48930670e-01  1.28614067e-01\n",
      "  1.09976607e-01  9.28016447e-02  7.69121494e-02  6.21616541e-02\n",
      "  4.84276337e-02  3.56065709e-02  2.36102232e-02  1.23627575e-02\n",
      "  1.79852267e-03 -8.13970144e-03 -1.75020966e-02 -2.63329234e-02\n",
      " -3.46714259e-02 -4.25525706e-02 -5.00076542e-02 -5.70648075e-02\n",
      " -6.37494153e-02 -7.00844696e-02 -7.60908669e-02 -8.17876614e-02\n",
      " -8.71922805e-02 -9.23207097e-02 -9.71876518e-02 -1.01806665e-01\n",
      " -1.06190281e-01 -1.10350114e-01 -1.14296943e-01 -1.18040803e-01\n",
      " -1.21591046e-01 -1.24956409e-01 -1.28145068e-01 -1.31164685e-01\n",
      " -1.34022457e-01 -1.36725148e-01 -1.39279130e-01 -1.41690412e-01\n",
      " -1.43964668e-01 -1.46107264e-01 -1.48123281e-01 -1.50017535e-01\n",
      " -1.51794595e-01 -1.53458804e-01 -1.55014290e-01 -1.56464986e-01\n",
      " -1.57814637e-01 -1.59066818e-01 -1.60224940e-01 -1.61292264e-01\n",
      " -1.62271907e-01 -1.63166853e-01 -1.63979961e-01 -1.64713971e-01\n",
      " -1.65371512e-01 -1.65955107e-01 -1.66467180e-01 -1.66910061e-01\n",
      " -1.67285991e-01 -1.67597127e-01 -1.67845546e-01 -1.68033248e-01\n",
      " -1.68162164e-01 -1.68234153e-01 -1.68251013e-01 -1.68214476e-01\n",
      " -1.68126217e-01 -1.67987855e-01 -1.67800956e-01 -1.67567032e-01\n",
      " -1.67287549e-01 -1.66963925e-01 -1.66597533e-01 -1.66189703e-01\n",
      " -1.65741725e-01 -1.65254849e-01 -1.64730287e-01 -1.64169216e-01\n",
      " -1.63572777e-01 -1.62942078e-01 -1.62278195e-01 -1.61582174e-01\n",
      " -1.60855030e-01 -1.60097750e-01 -1.59311294e-01 -1.58496594e-01\n",
      " -1.57654559e-01 -1.56786070e-01 -1.55891988e-01 -1.54973148e-01\n",
      " -1.54030364e-01 -1.53064430e-01 -1.52076116e-01 -1.51066176e-01\n",
      " -1.50035341e-01 -1.48984327e-01 -1.47913828e-01 -1.46824524e-01\n",
      " -1.45717075e-01 -1.44592127e-01 -1.43450308e-01 -1.42292233e-01\n",
      " -1.41118500e-01 -1.39929694e-01 -1.38726383e-01 -1.37509125e-01\n",
      " -1.36278463e-01 -1.35034926e-01 -1.33779033e-01 -1.32511288e-01\n",
      " -1.31232186e-01 -1.29942208e-01 -1.28641825e-01 -1.27331497e-01\n",
      " -1.26011673e-01 -1.24682792e-01 -1.23345283e-01 -1.21999566e-01\n",
      " -1.20646049e-01 -1.19285134e-01 -1.17917210e-01 -1.16542662e-01\n",
      " -1.15161862e-01 -1.13775175e-01 -1.12382960e-01 -1.10985565e-01\n",
      " -1.09583331e-01 -1.08176593e-01 -1.06765677e-01 -1.05350902e-01\n",
      " -1.03932580e-01 -1.02511016e-01 -1.01086509e-01 -9.96593500e-02\n",
      " -9.82298253e-02 -9.67982135e-02 -9.53647876e-02 -9.39298146e-02\n",
      " -9.24935554e-02 -9.10562654e-02 -8.96181941e-02 -8.81795859e-02\n",
      " -8.67406793e-02 -8.53017079e-02 -8.38629002e-02 -8.24244793e-02\n",
      " -8.09866636e-02 -7.95496668e-02 -7.81136975e-02 -7.66789600e-02\n",
      " -7.52456538e-02 -7.38139742e-02 -7.23841121e-02 -7.09562539e-02\n",
      " -6.95305820e-02 -6.81072748e-02 -6.66865065e-02 -6.52684475e-02\n",
      " -6.38532643e-02 -6.24411195e-02 -6.10321722e-02 -5.96265778e-02\n",
      " -5.82244881e-02 -5.68260514e-02 -5.54314126e-02 -5.40407133e-02\n",
      " -5.26540916e-02 -5.12716827e-02 -4.98936184e-02 -4.85200273e-02\n",
      " -4.71510352e-02 -4.57867648e-02 -4.44273357e-02 -4.30728650e-02\n",
      " -4.17234665e-02 -4.03792516e-02 -3.90403287e-02 -3.77068038e-02\n",
      " -3.63787800e-02 -3.50563580e-02 -3.37396358e-02 -3.24287092e-02\n",
      " -3.11236712e-02 -2.98246126e-02 -2.85316218e-02 -2.72447850e-02\n",
      " -2.59641860e-02 -2.46899063e-02 -2.34220253e-02 -2.21606204e-02\n",
      " -2.09057666e-02 -1.96575370e-02 -1.84160026e-02 -1.71812324e-02\n",
      " -1.59532934e-02 -1.47322507e-02 -1.35181675e-02 -1.23111051e-02\n",
      " -1.11111230e-02 -9.91827895e-03 -8.73262873e-03 -7.55422654e-03\n",
      " -6.38312482e-03 -5.21937432e-03 -4.06302414e-03 -2.91412175e-03\n",
      " -1.77271302e-03 -6.38842256e-04  4.87447793e-04  1.60611589e-03\n",
      "  2.71712230e-03  3.82042874e-03  4.91599839e-03  6.00379584e-03\n",
      "  7.08378706e-03  8.15593940e-03  9.22022158e-03  1.02766036e-02\n",
      "  1.13250568e-02  1.23655538e-02  1.33980685e-02  1.44225759e-02\n",
      "  1.54390524e-02  1.64474755e-02  1.74478238e-02  1.84400773e-02\n",
      "  1.94242169e-02  2.04002247e-02  2.13680839e-02  2.23277787e-02\n",
      "  2.32792946e-02  2.42226179e-02  2.51577360e-02  2.60846372e-02\n",
      "  2.70033111e-02  2.79137480e-02  2.88159392e-02  2.97098770e-02\n",
      "  3.05955546e-02  3.14729661e-02  3.23421065e-02  3.32029717e-02\n",
      "  3.40555585e-02  3.48998644e-02  3.57358878e-02  3.65636281e-02\n",
      "  3.73830852e-02  3.81942601e-02  3.89971543e-02  3.97917703e-02\n",
      "  4.05781111e-02  4.13561807e-02  4.21259836e-02  4.28875253e-02\n",
      "  4.36408116e-02  4.43858493e-02  4.51226459e-02  4.58512092e-02\n",
      "  4.65715481e-02  4.72836719e-02  4.79875906e-02  4.86833147e-02\n",
      "  4.93708554e-02  5.00502245e-02  5.07214345e-02  5.13844982e-02\n",
      "  5.20394293e-02  5.26862416e-02  5.33249500e-02  5.39555695e-02\n",
      "  5.45781158e-02  5.51926051e-02  5.57990541e-02  5.63974801e-02\n",
      "  5.69879006e-02  5.75703338e-02  5.81447984e-02  5.87113135e-02\n",
      "  5.92698986e-02  5.98205737e-02  6.03633592e-02  6.08982759e-02\n",
      "  6.14253451e-02  6.19445886e-02  6.24560282e-02  6.29596866e-02\n",
      "  6.34555866e-02  6.39437514e-02  6.44242046e-02  6.48969702e-02\n",
      "  6.53620725e-02  6.58195361e-02  6.62693861e-02  6.67116479e-02\n",
      "  6.71463470e-02  6.75735096e-02  6.79931618e-02  6.84053304e-02\n",
      "  6.88100422e-02  6.92073245e-02  6.95972047e-02  6.99797106e-02\n",
      "  7.03548703e-02  7.07227122e-02  7.10832647e-02  7.14365568e-02\n",
      "  7.17826176e-02  7.21214763e-02  7.24531626e-02  7.27777063e-02\n",
      "  7.30951374e-02  7.34054863e-02  7.37087833e-02  7.40050593e-02\n",
      "  7.42943450e-02  7.45766717e-02  7.48520706e-02  7.51205733e-02\n",
      "  7.53822113e-02  7.56370167e-02  7.58850214e-02  7.61262576e-02\n",
      "  7.63607578e-02  7.65885544e-02  7.68096803e-02  7.70241682e-02\n",
      "  7.72320512e-02  7.74333624e-02  7.76281351e-02  7.78164028e-02\n",
      "  7.79981991e-02  7.81735576e-02  7.83425121e-02  7.85050966e-02\n",
      "  7.86613452e-02  7.88112919e-02  7.89549712e-02  7.90924174e-02\n",
      "  7.92236649e-02  7.93487483e-02  7.94677024e-02  7.95805618e-02\n",
      "  7.96873615e-02  7.97881363e-02  7.98829213e-02  7.99717516e-02\n",
      "  8.00546622e-02  8.01316885e-02  8.02028657e-02  8.02682293e-02\n",
      "  8.03278145e-02  8.03816569e-02  8.04297920e-02  8.04722554e-02\n",
      "  8.05090827e-02  8.05403095e-02  8.05659717e-02  8.05861048e-02\n",
      "  8.06007447e-02  8.06099273e-02  8.06136883e-02  8.06120636e-02\n",
      "  8.06050891e-02  8.05928007e-02  8.05752345e-02  8.05524262e-02\n",
      "  8.05244119e-02  8.04912275e-02  8.04529091e-02  8.04094925e-02\n",
      "  8.03610139e-02  8.03075093e-02  8.02490145e-02  8.01855656e-02\n",
      "  8.01171986e-02  8.00439494e-02  7.99658541e-02  7.98829485e-02\n",
      "  7.97952687e-02  7.97028506e-02  7.96057299e-02  7.95039428e-02\n",
      "  7.93975249e-02  7.92865122e-02  7.91709404e-02  7.90508454e-02\n",
      "  7.89262628e-02  7.87972285e-02  7.86637781e-02  7.85259473e-02\n",
      "  7.83837716e-02  7.82372866e-02  7.80865280e-02  7.79315311e-02\n",
      "  7.77723314e-02  7.76089643e-02  7.74414652e-02  7.72698693e-02\n",
      "  7.70942120e-02  7.69145284e-02  7.67308536e-02  7.65432227e-02\n",
      "  7.63516708e-02  7.61562329e-02  7.59569438e-02  7.57538384e-02\n",
      "  7.55469514e-02  7.53363177e-02  7.51219718e-02  7.49039484e-02\n",
      "  7.46822819e-02  7.44570068e-02  7.42281575e-02  7.39957683e-02\n",
      "  7.37598735e-02  7.35205071e-02  7.32777032e-02  7.30314959e-02\n",
      "  7.27819191e-02  7.25290067e-02  7.22727923e-02  7.20133097e-02\n",
      "  7.17505924e-02  7.14846741e-02  7.12155880e-02  7.09433677e-02\n",
      "  7.06680462e-02  7.03896568e-02  7.01082326e-02  6.98238066e-02\n",
      "  6.95364116e-02  6.92460805e-02  6.89528459e-02  6.86567406e-02\n",
      "  6.83577969e-02  6.80560474e-02  6.77515244e-02  6.74442601e-02\n",
      "  6.71342867e-02  6.68216362e-02  6.65063405e-02  6.61884315e-02\n",
      "  6.58679409e-02  6.55449004e-02  6.52193415e-02  6.48912956e-02\n",
      "  6.45607940e-02  6.42278680e-02  6.38925488e-02  6.35548672e-02\n",
      "  6.32148542e-02  6.28725406e-02  6.25279572e-02  6.21811344e-02\n",
      "  6.18321027e-02  6.14808926e-02  6.11275342e-02  6.07720578e-02\n",
      "  6.04144933e-02  6.00548706e-02  5.96932196e-02  5.93295700e-02\n",
      "  5.89639513e-02  5.85963930e-02  5.82269245e-02  5.78555750e-02\n",
      "  5.74823736e-02  5.71073494e-02  5.67305311e-02  5.63519476e-02\n",
      "  5.59716276e-02  5.55895996e-02  5.52058920e-02  5.48205332e-02\n",
      "  5.44335512e-02  5.40449742e-02  5.36548301e-02  5.32631468e-02\n",
      "  5.28699520e-02  5.24752732e-02  5.20791379e-02  5.16815735e-02\n",
      "  5.12826072e-02  5.08822661e-02  5.04805772e-02  5.00775673e-02\n",
      "  4.96732633e-02  4.92676916e-02  4.88608789e-02  4.84528515e-02\n",
      "  4.80436356e-02  4.76332573e-02  4.72217428e-02  4.68091178e-02\n",
      "  4.63954081e-02  4.59806394e-02  4.55648371e-02  4.51480267e-02\n",
      "  4.47302333e-02  4.43114823e-02  4.38917984e-02  4.34712068e-02\n",
      "  4.30497320e-02  4.26273988e-02  4.22042317e-02  4.17802550e-02\n",
      "  4.13554930e-02  4.09299699e-02  4.05037097e-02  4.00767362e-02\n",
      "  3.96490733e-02  3.92207445e-02  3.87917733e-02  3.83621833e-02\n",
      "  3.79319975e-02  3.75012392e-02  3.70699313e-02  3.66380968e-02\n",
      "  3.62057584e-02  3.57729387e-02  3.53396602e-02  3.49059454e-02\n",
      "  3.44718164e-02  3.40372954e-02  3.36024044e-02  3.31671653e-02\n",
      "  3.27315999e-02  3.22957296e-02  3.18595762e-02  3.14231608e-02\n",
      "  3.09865049e-02  3.05496294e-02  3.01125554e-02  2.96753039e-02\n",
      "  2.92378954e-02  2.88003507e-02  2.83626902e-02  2.79249344e-02\n",
      "  2.74871034e-02  2.70492174e-02  2.66112964e-02  2.61733603e-02\n",
      "  2.57354288e-02  2.52975215e-02  2.48596580e-02  2.44218576e-02\n",
      "  2.39841395e-02  2.35465230e-02  2.31090270e-02  2.26716704e-02\n",
      "  2.22344719e-02  2.17974503e-02  2.13606239e-02  2.09240113e-02\n",
      "  2.04876306e-02  2.00515000e-02  1.96156376e-02  1.91800612e-02\n",
      "  1.87447886e-02  1.83098375e-02  1.78752255e-02  1.74409698e-02\n",
      "  1.70070879e-02  1.65735968e-02  1.61405137e-02  1.57078555e-02\n",
      "  1.52756390e-02  1.48438808e-02  1.44125976e-02  1.39818058e-02\n",
      "  1.35515217e-02  1.31217615e-02  1.26925414e-02  1.22638773e-02\n",
      "  1.18357850e-02  1.14082803e-02  1.09813789e-02  1.05550961e-02\n",
      "  1.01294475e-02  9.70444821e-03  9.28011343e-03  8.85645820e-03\n",
      "  8.43349742e-03  8.01124589e-03  7.58971830e-03  7.16892920e-03\n",
      "  6.74889305e-03  6.32962418e-03  5.91113682e-03  5.49344506e-03\n",
      "  5.07656289e-03  4.66050420e-03  4.24528274e-03  3.83091216e-03\n",
      "  3.41740599e-03  3.00477766e-03  2.59304047e-03  2.18220761e-03\n",
      "  1.77229218e-03  1.36330714e-03  9.55265346e-04  5.48179551e-04\n",
      "  1.42062390e-04 -2.63073612e-04 -6.67216039e-04 -1.07035259e-03\n",
      " -1.47247106e-03 -1.87355938e-03 -2.27360556e-03 -2.67259775e-03\n",
      " -3.07052417e-03 -3.46737319e-03 -3.86313326e-03 -4.25779294e-03\n",
      " -4.65134092e-03 -5.04376597e-03 -5.43505698e-03 -5.82520295e-03\n",
      " -6.21419298e-03 -6.60201627e-03 -6.98866213e-03 -7.37411998e-03\n",
      " -7.75837936e-03 -8.14142987e-03 -8.52326126e-03 -8.90386335e-03\n",
      " -9.28322609e-03 -9.66133952e-03 -1.00381938e-02 -1.04137791e-02\n",
      " -1.07880859e-02 -1.11611046e-02 -1.15328256e-02 -1.19032398e-02\n",
      " -1.22723379e-02 -1.26401106e-02 -1.30065489e-02 -1.33716440e-02\n",
      " -1.37353870e-02 -1.40977691e-02 -1.44587816e-02 -1.48184161e-02\n",
      " -1.51766640e-02 -1.55335171e-02 -1.58889670e-02 -1.62430056e-02\n",
      " -1.65956249e-02 -1.69468169e-02 -1.72965736e-02 -1.76448874e-02\n",
      " -1.79917506e-02 -1.83371555e-02 -1.86810948e-02 -1.90235609e-02\n",
      " -1.93645466e-02 -1.97040447e-02 -2.00420480e-02 -2.03785496e-02\n",
      " -2.07135425e-02 -2.10470199e-02 -2.13789751e-02 -2.17094013e-02\n",
      " -2.20382920e-02 -2.23656408e-02 -2.26914412e-02 -2.30156870e-02\n",
      " -2.33383720e-02 -2.36594900e-02 -2.39790351e-02 -2.42970012e-02\n",
      " -2.46133826e-02 -2.49281735e-02 -2.52413681e-02 -2.55529610e-02\n",
      " -2.58629466e-02 -2.61713196e-02 -2.64780745e-02 -2.67832061e-02\n",
      " -2.70867093e-02 -2.73885791e-02 -2.76888103e-02 -2.79873982e-02\n",
      " -2.82843379e-02 -2.85796246e-02 -2.88732537e-02 -2.91652207e-02\n",
      " -2.94555210e-02 -2.97441502e-02 -3.00311040e-02 -3.03163782e-02\n",
      " -3.05999686e-02 -3.08818712e-02 -3.11620818e-02 -3.14405966e-02\n",
      " -3.17174118e-02 -3.19925235e-02 -3.22659281e-02 -3.25376220e-02\n",
      " -3.28076017e-02 -3.30758636e-02 -3.33424045e-02 -3.36072209e-02\n",
      " -3.38703098e-02 -3.41316679e-02 -3.43912921e-02 -3.46491796e-02\n",
      " -3.49053272e-02 -3.51597323e-02 -3.54123920e-02 -3.56633037e-02\n",
      " -3.59124646e-02 -3.61598723e-02 -3.64055242e-02 -3.66494180e-02\n",
      " -3.68915513e-02 -3.71319218e-02 -3.73705274e-02 -3.76073660e-02\n",
      " -3.78424354e-02 -3.80757337e-02 -3.83072590e-02 -3.85370095e-02\n",
      " -3.87649833e-02 -3.89911788e-02 -3.92155943e-02 -3.94382282e-02\n",
      " -3.96590791e-02 -3.98781455e-02 -4.00954261e-02 -4.03109195e-02\n",
      " -4.05246245e-02 -4.07365400e-02 -4.09466647e-02 -4.11549978e-02\n",
      " -4.13615382e-02 -4.15662851e-02 -4.17692375e-02 -4.19703946e-02\n",
      " -4.21697559e-02 -4.23673205e-02 -4.25630880e-02 -4.27570577e-02\n",
      " -4.29492293e-02 -4.31396023e-02 -4.33281763e-02 -4.35149511e-02\n",
      " -4.36999265e-02 -4.38831022e-02 -4.40644782e-02 -4.42440545e-02\n",
      " -4.44218310e-02 -4.45978078e-02 -4.47719851e-02 -4.49443630e-02\n",
      " -4.51149418e-02 -4.52837217e-02 -4.54507032e-02 -4.56158867e-02\n",
      " -4.57792726e-02 -4.59408615e-02 -4.61006539e-02 -4.62586506e-02\n",
      " -4.64148521e-02 -4.65692592e-02 -4.67218728e-02 -4.68726937e-02\n",
      " -4.70217227e-02 -4.71689610e-02 -4.73144095e-02 -4.74580692e-02\n",
      " -4.75999413e-02 -4.77400269e-02 -4.78783274e-02 -4.80148439e-02\n",
      " -4.81495778e-02 -4.82825304e-02 -4.84137033e-02 -4.85430978e-02\n",
      " -4.86707156e-02 -4.87965581e-02 -4.89206270e-02 -4.90429240e-02\n",
      " -4.91634509e-02 -4.92822093e-02 -4.93992011e-02 -4.95144281e-02\n",
      " -4.96278924e-02 -4.97395958e-02 -4.98495403e-02 -4.99577280e-02\n",
      " -5.00641611e-02 -5.01688415e-02 -5.02717716e-02 -5.03729536e-02\n",
      " -5.04723897e-02 -5.05700822e-02 -5.06660336e-02 -5.07602462e-02\n",
      " -5.08527225e-02 -5.09434649e-02 -5.10324761e-02 -5.11197586e-02\n",
      " -5.12053150e-02 -5.12891480e-02 -5.13712602e-02 -5.14516545e-02\n",
      " -5.15303337e-02 -5.16073004e-02 -5.16825577e-02 -5.17561084e-02\n",
      " -5.18279554e-02 -5.18981018e-02 -5.19665505e-02 -5.20333047e-02\n",
      " -5.20983674e-02 -5.21617418e-02 -5.22234310e-02 -5.22834383e-02\n",
      " -5.23417668e-02 -5.23984200e-02 -5.24534011e-02 -5.25067135e-02\n",
      " -5.25583605e-02 -5.26083456e-02 -5.26566723e-02 -5.27033441e-02\n",
      " -5.27483644e-02 -5.27917369e-02 -5.28334652e-02 -5.28735530e-02\n",
      " -5.29120037e-02 -5.29488213e-02 -5.29840094e-02 -5.30175718e-02\n",
      " -5.30495123e-02 -5.30798348e-02 -5.31085430e-02 -5.31356409e-02\n",
      " -5.31611324e-02 -5.31850216e-02 -5.32073123e-02 -5.32280085e-02\n",
      " -5.32471145e-02 -5.32646341e-02 -5.32805716e-02 -5.32949311e-02\n",
      " -5.33077167e-02 -5.33189327e-02 -5.33285832e-02 -5.33366725e-02\n",
      " -5.33432050e-02 -5.33481848e-02 -5.33516164e-02 -5.33535042e-02\n",
      " -5.33538524e-02 -5.33526655e-02 -5.33499481e-02 -5.33457044e-02\n",
      " -5.33399391e-02 -5.33326566e-02 -5.33238616e-02 -5.33135585e-02\n",
      " -5.33017520e-02 -5.32884466e-02 -5.32736471e-02 -5.32573582e-02\n",
      " -5.32395844e-02 -5.32203305e-02 -5.31996012e-02 -5.31774014e-02\n",
      " -5.31537358e-02 -5.31286092e-02 -5.31020265e-02 -5.30739924e-02\n",
      " -5.30445119e-02 -5.30135898e-02 -5.29812312e-02 -5.29474408e-02\n",
      " -5.29122237e-02 -5.28755849e-02 -5.28375293e-02 -5.27980620e-02\n",
      " -5.27571880e-02 -5.27149123e-02 -5.26712401e-02 -5.26261764e-02\n",
      " -5.25797264e-02 -5.25318952e-02 -5.24826879e-02 -5.24321098e-02\n",
      " -5.23801659e-02 -5.23268616e-02 -5.22722019e-02 -5.22161923e-02\n",
      " -5.21588379e-02 -5.21001439e-02 -5.20401158e-02 -5.19787588e-02\n",
      " -5.19160782e-02 -5.18520794e-02 -5.17867676e-02 -5.17201484e-02\n",
      " -5.16522271e-02 -5.15830090e-02 -5.15124996e-02 -5.14407043e-02\n",
      " -5.13676286e-02 -5.12932779e-02 -5.12176577e-02 -5.11407735e-02\n",
      " -5.10626308e-02 -5.09832350e-02 -5.09025918e-02 -5.08207066e-02\n",
      " -5.07375850e-02 -5.06532326e-02 -5.05676549e-02 -5.04808575e-02\n",
      " -5.03928460e-02 -5.03036261e-02 -5.02132034e-02 -5.01215834e-02\n",
      " -5.00287719e-02 -4.99347744e-02 -4.98395967e-02 -4.97432444e-02\n",
      " -4.96457232e-02 -4.95470388e-02 -4.94471970e-02 -4.93462033e-02\n",
      " -4.92440636e-02 -4.91407836e-02 -4.90363690e-02 -4.89308255e-02\n",
      " -4.88241590e-02 -4.87163752e-02 -4.86074798e-02 -4.84974787e-02\n",
      " -4.83863777e-02 -4.82741825e-02 -4.81608989e-02 -4.80465328e-02\n",
      " -4.79310900e-02 -4.78145763e-02 -4.76969975e-02 -4.75783595e-02\n",
      " -4.74586681e-02 -4.73379292e-02 -4.72161487e-02 -4.70933323e-02\n",
      " -4.69694861e-02 -4.68446158e-02 -4.67187273e-02 -4.65918265e-02\n",
      " -4.64639193e-02 -4.63350116e-02 -4.62051093e-02 -4.60742184e-02\n",
      " -4.59423446e-02 -4.58094939e-02 -4.56756723e-02 -4.55408857e-02\n",
      " -4.54051399e-02 -4.52684409e-02 -4.51307947e-02 -4.49922072e-02\n",
      " -4.48526842e-02 -4.47122318e-02 -4.45708558e-02 -4.44285623e-02\n",
      " -4.42853572e-02 -4.41412464e-02 -4.39962358e-02 -4.38503314e-02\n",
      " -4.37035393e-02 -4.35558652e-02 -4.34073152e-02 -4.32578953e-02\n",
      " -4.31076113e-02 -4.29564693e-02 -4.28044752e-02 -4.26516349e-02\n",
      " -4.24979545e-02 -4.23434398e-02 -4.21880969e-02 -4.20319317e-02]\n"
     ]
    }
   ],
   "source": [
    "lst3, gradient3 = compute_gradient(function3, (0, 100.1, 0.1))\n",
    "\n",
    "print(\"Function 3 gradient: {}\".format(gradient3))"
   ]
  },
  {
   "cell_type": "code",
   "execution_count": 25,
   "id": "confused-transparency",
   "metadata": {},
   "outputs": [
    {
     "data": {
      "image/png": "[encoded data removed]",
      "text/plain": [
       "<Figure size 432x288 with 1 Axes>"
      ]
     },
     "metadata": {
      "needs_background": "light"
     },
     "output_type": "display_data"
    }
   ],
   "source": [
    "plt.plot(lst3[:,0], lst3[:,1])\n",
    "plt.title(r\"$y = sin(x^{\\frac{1}{2}})$\")\n",
    "plt.xlabel(\"x\")\n",
    "plt.ylabel(\"y\")\n",
    "\n",
    "plt.show()"
   ]
  },
  {
   "cell_type": "code",
   "execution_count": 26,
   "id": "offensive-trance",
   "metadata": {},
   "outputs": [
    {
     "data": {
      "image/png": "[encoded data removed]",
      "text/plain": [
       "<Figure size 432x288 with 1 Axes>"
      ]
     },
     "metadata": {
      "needs_background": "light"
     },
     "output_type": "display_data"
    }
   ],
   "source": [
    "plt.plot(lst3[:,0][:-1], gradient3)\n",
    "plt.title(r\"Gradient of $y = sin(x^{\\frac{1}{2}})$\")\n",
    "plt.xlabel(\"x\")\n",
    "plt.ylabel(\"Gradient\")\n",
    "\n",
    "plt.show()"
   ]
  },
  {
   "cell_type": "markdown",
   "id": "gorgeous-genome",
   "metadata": {},
   "source": [
    "Problem 6: Find the minimum value"
   ]
  },
  {
   "cell_type": "markdown",
   "id": "documentary-hello",
   "metadata": {},
   "source": [
    "First equation $y = x^2$:"
   ]
  },
  {
   "cell_type": "code",
   "execution_count": 27,
   "id": "armed-space",
   "metadata": {},
   "outputs": [
    {
     "name": "stdout",
     "output_type": "stream",
     "text": [
      "Minimum value of y of function 1 is 5.048709793414476e-25 at index 500\n"
     ]
    }
   ],
   "source": [
    "min1 = np.min(lst1[:,1])\n",
    "min_idx1 = np.argmin(lst1[:,1])\n",
    "print(\"Minimum value of y of function 1 is {} at index {}\".format(min1, min_idx1))"
   ]
  },
  {
   "cell_type": "markdown",
   "id": "alternate-jason",
   "metadata": {},
   "source": [
    "Slope before the minimum value y:"
   ]
  },
  {
   "cell_type": "code",
   "execution_count": 28,
   "id": "direct-keyboard",
   "metadata": {},
   "outputs": [
    {
     "data": {
      "image/png": "[encoded data removed]",
      "text/plain": [
       "<Figure size 432x288 with 1 Axes>"
      ]
     },
     "metadata": {
      "needs_background": "light"
     },
     "output_type": "display_data"
    }
   ],
   "source": [
    "plt.plot(lst1[:,0][0:min_idx1], lst1[:,1][0:min_idx1])\n",
    "plt.title(r\"$y = x^2$ before minimum y\")\n",
    "plt.xlabel(\"x\")\n",
    "plt.ylabel(\"y\")\n",
    "\n",
    "plt.show()"
   ]
  },
  {
   "cell_type": "markdown",
   "id": "sticky-plumbing",
   "metadata": {},
   "source": [
    "Slope after the minimum value y:"
   ]
  },
  {
   "cell_type": "code",
   "execution_count": 29,
   "id": "continental-apartment",
   "metadata": {},
   "outputs": [
    {
     "data": {
      "image/png": "[encoded data removed]",
      "text/plain": [
       "<Figure size 432x288 with 1 Axes>"
      ]
     },
     "metadata": {
      "needs_background": "light"
     },
     "output_type": "display_data"
    }
   ],
   "source": [
    "plt.plot(lst1[:,0][min_idx1:-1], lst1[:,1][min_idx1:-1])\n",
    "plt.title(r\"$y = x^2$ after minimum y\")\n",
    "plt.xlabel(\"x\")\n",
    "plt.ylabel(\"y\")\n",
    "\n",
    "plt.show()"
   ]
  },
  {
   "cell_type": "markdown",
   "id": "lonely-context",
   "metadata": {},
   "source": [
    "Second equation $y = 2x^2 + 2^x$:"
   ]
  },
  {
   "cell_type": "code",
   "execution_count": 31,
   "id": "initial-involvement",
   "metadata": {},
   "outputs": [
    {
     "name": "stdout",
     "output_type": "stream",
     "text": [
      "Minimum value of y of function 2 is 0.9505505632959851 at index 498\n"
     ]
    }
   ],
   "source": [
    "min2 = np.min(lst2[:,1])\n",
    "min_idx2 = np.argmin(lst2[:,1])\n",
    "print(\"Minimum value of y of function 2 is {} at index {}\".format(min2, min_idx2))"
   ]
  },
  {
   "cell_type": "markdown",
   "id": "endangered-courtesy",
   "metadata": {},
   "source": [
    "Slope before the minimum value y:"
   ]
  },
  {
   "cell_type": "code",
   "execution_count": 33,
   "id": "french-comparative",
   "metadata": {},
   "outputs": [
    {
     "data": {
      "image/png": "[encoded data removed]",
      "text/plain": [
       "<Figure size 432x288 with 1 Axes>"
      ]
     },
     "metadata": {
      "needs_background": "light"
     },
     "output_type": "display_data"
    }
   ],
   "source": [
    "plt.plot(lst2[:,0][0:min_idx2], lst2[:,1][0:min_idx2])\n",
    "plt.title(r\"$y = 2x^2 + 2^x$ before minimum y\")\n",
    "plt.xlabel(\"x\")\n",
    "plt.ylabel(\"y\")\n",
    "\n",
    "plt.show()"
   ]
  },
  {
   "cell_type": "markdown",
   "id": "royal-familiar",
   "metadata": {},
   "source": [
    "Slope after the minimum value y:"
   ]
  },
  {
   "cell_type": "code",
   "execution_count": 35,
   "id": "dental-calgary",
   "metadata": {},
   "outputs": [
    {
     "data": {
      "image/png": "[encoded data removed]",
      "text/plain": [
       "<Figure size 432x288 with 1 Axes>"
      ]
     },
     "metadata": {
      "needs_background": "light"
     },
     "output_type": "display_data"
    }
   ],
   "source": [
    "plt.plot(lst2[:,0][min_idx2:-1], lst2[:,1][min_idx2:-1])\n",
    "plt.title(r\"$y = 2x^2 + 2^x$ after minimum y\")\n",
    "plt.xlabel(\"x\")\n",
    "plt.ylabel(\"y\")\n",
    "\n",
    "plt.show()"
   ]
  },
  {
   "cell_type": "markdown",
   "id": "laden-canal",
   "metadata": {},
   "source": [
    "Third equation $y = sin(x^{\\frac{1}{2}})$:"
   ]
  },
  {
   "cell_type": "code",
   "execution_count": 36,
   "id": "stupid-policy",
   "metadata": {},
   "outputs": [
    {
     "name": "stdout",
     "output_type": "stream",
     "text": [
      "Minimum value of y of function 3 is -0.9999997540298113 at index 222\n"
     ]
    }
   ],
   "source": [
    "min3 = np.min(lst3[:,1])\n",
    "min_idx3 = np.argmin(lst3[:,1])\n",
    "print(\"Minimum value of y of function 3 is {} at index {}\".format(min3, min_idx3))"
   ]
  },
  {
   "cell_type": "markdown",
   "id": "abstract-convertible",
   "metadata": {},
   "source": [
    "Slope before the minimum value y:"
   ]
  },
  {
   "cell_type": "code",
   "execution_count": 38,
   "id": "adverse-conjunction",
   "metadata": {},
   "outputs": [
    {
     "data": {
      "image/png": "[encoded data removed]",
      "text/plain": [
       "<Figure size 432x288 with 1 Axes>"
      ]
     },
     "metadata": {
      "needs_background": "light"
     },
     "output_type": "display_data"
    }
   ],
   "source": [
    "plt.plot(lst3[:,0][0:min_idx3], lst3[:,1][0:min_idx3])\n",
    "plt.title(r\"$y = sin(x^{\\frac{1}{2}})$ before minimum y\")\n",
    "plt.xlabel(\"x\")\n",
    "plt.ylabel(\"y\")\n",
    "\n",
    "plt.show()"
   ]
  },
  {
   "cell_type": "markdown",
   "id": "velvet-sculpture",
   "metadata": {},
   "source": [
    "Slope after the minimum value y:"
   ]
  },
  {
   "cell_type": "code",
   "execution_count": 40,
   "id": "found-central",
   "metadata": {},
   "outputs": [
    {
     "data": {
      "image/png": "[encoded data removed]",
      "text/plain": [
       "<Figure size 432x288 with 1 Axes>"
      ]
     },
     "metadata": {
      "needs_background": "light"
     },
     "output_type": "display_data"
    }
   ],
   "source": [
    "plt.plot(lst3[:,0][min_idx3:-1], lst3[:,1][min_idx3:-1])\n",
    "plt.title(r\"$y = sin(x^{\\frac{1}{2}})$ after minimum y\")\n",
    "plt.xlabel(\"x\")\n",
    "plt.ylabel(\"y\")\n",
    "\n",
    "plt.show()"
   ]
  },
  {
   "cell_type": "code",
   "execution_count": null,
   "id": "stylish-radical",
   "metadata": {},
   "outputs": [],
   "source": []
  }
 ],
 "metadata": {
  "kernelspec": {
   "display_name": "Python 3",
   "language": "python",
   "name": "python3"
  },
  "language_info": {
   "codemirror_mode": {
    "name": "ipython",
    "version": 3
   },
   "file_extension": ".py",
   "mimetype": "text/x-python",
   "name": "python",
   "nbconvert_exporter": "python",
   "pygments_lexer": "ipython3",
   "version": "3.9.0"
  }
 },
 "nbformat": 4,
 "nbformat_minor": 5
}
