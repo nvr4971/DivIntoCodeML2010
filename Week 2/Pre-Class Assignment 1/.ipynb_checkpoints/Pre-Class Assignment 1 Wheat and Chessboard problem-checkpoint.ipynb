{
 "cells": [
  {
   "cell_type": "markdown",
   "id": "amino-studio",
   "metadata": {},
   "source": [
    "Pre-Class Assignment 1 Wheat and Chessboard problem\n",
    "\n",
    "Student: Nguyễn Tấn Tài"
   ]
  },
  {
   "cell_type": "markdown",
   "id": "tamil-entity",
   "metadata": {},
   "source": [
    "Problem 1: Number of wheat on a 2x2 square chess board"
   ]
  },
  {
   "cell_type": "code",
   "execution_count": 1,
   "id": "aboriginal-sleeping",
   "metadata": {},
   "outputs": [
    {
     "name": "stdout",
     "output_type": "stream",
     "text": [
      "Arrange wheat on a plate of 4 squares:\n",
      "[[1 2]\n",
      " [4 8]]\n"
     ]
    }
   ],
   "source": [
    "import numpy as np\n",
    "\n",
    "n = 2               # Number of squares of a side\n",
    "n_squares = n ** 2  # Total number of squares on the board\n",
    "\n",
    "# Generate data for the board list\n",
    "board_lst = [1]     \n",
    "for i in range(n_squares - 1):\n",
    "    board_lst.append(board_lst[-1] * 2)\n",
    "\n",
    "# Convert to numpy array\n",
    "board = np.array(board_lst)\n",
    "board = np.reshape(board, (n, n))\n",
    "\n",
    "print(\"Arrange wheat on a plate of {} squares:\".format(n_squares))\n",
    "print(board)"
   ]
  },
  {
   "cell_type": "markdown",
   "id": "likely-panic",
   "metadata": {},
   "source": [
    "Problem 2: Expansion to n x m mass"
   ]
  },
  {
   "cell_type": "code",
   "execution_count": 13,
   "id": "demanding-logging",
   "metadata": {},
   "outputs": [
    {
     "name": "stdout",
     "output_type": "stream",
     "text": [
      "Arrange wheat on a plate of 8 x 8 squares:\n",
      "[[1.00000000e+00 2.00000000e+00 4.00000000e+00 8.00000000e+00\n",
      "  1.60000000e+01 3.20000000e+01 6.40000000e+01 1.28000000e+02]\n",
      " [2.56000000e+02 5.12000000e+02 1.02400000e+03 2.04800000e+03\n",
      "  4.09600000e+03 8.19200000e+03 1.63840000e+04 3.27680000e+04]\n",
      " [6.55360000e+04 1.31072000e+05 2.62144000e+05 5.24288000e+05\n",
      "  1.04857600e+06 2.09715200e+06 4.19430400e+06 8.38860800e+06]\n",
      " [1.67772160e+07 3.35544320e+07 6.71088640e+07 1.34217728e+08\n",
      "  2.68435456e+08 5.36870912e+08 1.07374182e+09 2.14748365e+09]\n",
      " [4.29496730e+09 8.58993459e+09 1.71798692e+10 3.43597384e+10\n",
      "  6.87194767e+10 1.37438953e+11 2.74877907e+11 5.49755814e+11]\n",
      " [1.09951163e+12 2.19902326e+12 4.39804651e+12 8.79609302e+12\n",
      "  1.75921860e+13 3.51843721e+13 7.03687442e+13 1.40737488e+14]\n",
      " [2.81474977e+14 5.62949953e+14 1.12589991e+15 2.25179981e+15\n",
      "  4.50359963e+15 9.00719925e+15 1.80143985e+16 3.60287970e+16]\n",
      " [7.20575940e+16 1.44115188e+17 2.88230376e+17 5.76460752e+17\n",
      "  1.15292150e+18 2.30584301e+18 4.61168602e+18 9.22337204e+18]]\n"
     ]
    }
   ],
   "source": [
    "import numpy as np\n",
    "\n",
    "def n_m_square_wheat(n, m):\n",
    "    n_squares = n * m\n",
    "\n",
    "    board_lst = [1]     \n",
    "    for i in range(n_squares - 1):\n",
    "        board_lst.append(board_lst[-1] * 2)\n",
    "\n",
    "    board_array = np.array(board_lst)\n",
    "    board_array = np.reshape(board_array, (n, m))\n",
    "\n",
    "    return board_array\n",
    "\n",
    "n = 8\n",
    "m = 8\n",
    "\n",
    "board = n_m_square_wheat(n, m)\n",
    "\n",
    "print(\"Arrange wheat on a plate of {} x {} squares:\".format(n, m))\n",
    "print(board)"
   ]
  },
  {
   "cell_type": "markdown",
   "id": "recorded-continent",
   "metadata": {},
   "source": [
    "Problem 3: Total number of wheat"
   ]
  },
  {
   "cell_type": "code",
   "execution_count": 6,
   "id": "charitable-green",
   "metadata": {},
   "outputs": [
    {
     "name": "stdout",
     "output_type": "stream",
     "text": [
      "Total number of wheat on a chessboard of 8 x 8 squares: 1.8446744073709552e+19\n"
     ]
    },
    {
     "data": {
      "image/png": "[encoded data removed]",
      "text/plain": [
       "<Figure size 432x288 with 1 Axes>"
      ]
     },
     "metadata": {
      "needs_background": "light"
     },
     "output_type": "display_data"
    }
   ],
   "source": [
    "import matplotlib.pyplot as plt\n",
    "\n",
    "# Get total number of wheat on the board\n",
    "print(\"Total number of wheat on a chessboard of {} x {} squares: {}\".format(n, n, board.sum()))\n",
    "\n",
    "# Average of each column array\n",
    "avg = board.sum(axis=0)\n",
    "avg = avg / n\n",
    "\n",
    "# Plot bar chart\n",
    "plt.xlabel(\"Column\")\n",
    "plt.ylabel(\"Number\")\n",
    "plt.title(\"Number in each column\")\n",
    "plt.bar(np.arange(1, n + 1), avg)\n",
    "\n",
    "plt.show()"
   ]
  },
  {
   "cell_type": "markdown",
   "id": "proper-hospital",
   "metadata": {},
   "source": [
    "Problem 4: Heat map of the number of wheat"
   ]
  },
  {
   "cell_type": "code",
   "execution_count": 5,
   "id": "mathematical-combining",
   "metadata": {},
   "outputs": [
    {
     "data": {
      "image/png": "[encoded data removed]",
      "text/plain": [
       "<Figure size 432x288 with 1 Axes>"
      ]
     },
     "metadata": {
      "needs_background": "light"
     },
     "output_type": "display_data"
    }
   ],
   "source": [
    "# Plot bar chart\n",
    "plt.xlabel(\"Column\")\n",
    "plt.ylabel(\"Row\")\n",
    "plt.title(\"Heatmap\")\n",
    "plt.pcolor(board)\n",
    "\n",
    "plt.show()"
   ]
  },
  {
   "cell_type": "markdown",
   "id": "based-plain",
   "metadata": {},
   "source": [
    "Problem 5: How many times is the second half as long as the first half"
   ]
  },
  {
   "cell_type": "code",
   "execution_count": 7,
   "id": "exposed-payday",
   "metadata": {},
   "outputs": [
    {
     "name": "stdout",
     "output_type": "stream",
     "text": [
      "The second half is 4294967296.0 times longer than the first half\n"
     ]
    }
   ],
   "source": [
    "# First half, second half calculation\n",
    "row_sum = board.sum(axis=1)\n",
    "first_half = row_sum[0:4].sum()\n",
    "second_half = row_sum[4:n].sum()\n",
    "print(\"The second half is {} times longer than the first half\".format(second_half / first_half))"
   ]
  },
  {
   "cell_type": "markdown",
   "id": "conditional-synthesis",
   "metadata": {},
   "source": [
    "Problem 6: Expansion to n x m mass by another calculation method"
   ]
  },
  {
   "cell_type": "markdown",
   "id": "impaired-change",
   "metadata": {},
   "source": [
    "Append method:"
   ]
  },
  {
   "cell_type": "code",
   "execution_count": 12,
   "id": "olive-reaction",
   "metadata": {},
   "outputs": [
    {
     "name": "stdout",
     "output_type": "stream",
     "text": [
      "Arrange wheat on a plate of 8 x 8 squares:\n",
      "[[                  1                   2                   4\n",
      "                    8                  16                  32\n",
      "                   64                 128]\n",
      " [                256                 512                1024\n",
      "                 2048                4096                8192\n",
      "                16384               32768]\n",
      " [              65536              131072              262144\n",
      "               524288             1048576             2097152\n",
      "              4194304             8388608]\n",
      " [           16777216            33554432            67108864\n",
      "            134217728           268435456           536870912\n",
      "           1073741824          2147483648]\n",
      " [         4294967296          8589934592         17179869184\n",
      "          34359738368         68719476736        137438953472\n",
      "         274877906944        549755813888]\n",
      " [      1099511627776       2199023255552       4398046511104\n",
      "        8796093022208      17592186044416      35184372088832\n",
      "       70368744177664     140737488355328]\n",
      " [    281474976710656     562949953421312    1125899906842624\n",
      "     2251799813685248    4503599627370496    9007199254740992\n",
      "    18014398509481984   36028797018963968]\n",
      " [  72057594037927936  144115188075855872  288230376151711744\n",
      "   576460752303423488 1152921504606846976 2305843009213693952\n",
      "  4611686018427387904 9223372036854775808]]\n"
     ]
    }
   ],
   "source": [
    "def n_m_square_wheat_append(n, m):\n",
    "    n_squares = n * m\n",
    "    board = np.array([1])\n",
    "\n",
    "    for i in range(n_squares - 1):\n",
    "        board = np.append(board, 2 * board[-1]).astype(np.uint64)\n",
    "\n",
    "    board = np.reshape(board, (n, m))\n",
    "\n",
    "    return board\n",
    "\n",
    "n = 8\n",
    "m = 8\n",
    "\n",
    "board_append = n_m_square_wheat_append(n, m)\n",
    "\n",
    "print(\"Arrange wheat on a plate of {} x {} squares:\".format(n, m))\n",
    "print(board_append)"
   ]
  },
  {
   "cell_type": "markdown",
   "id": "horizontal-token",
   "metadata": {},
   "source": [
    "Broadcast method:"
   ]
  },
  {
   "cell_type": "code",
   "execution_count": 11,
   "id": "foster-click",
   "metadata": {},
   "outputs": [
    {
     "name": "stdout",
     "output_type": "stream",
     "text": [
      "Arrange wheat on a plate of 8 x 8 squares:\n",
      "[[                  1                   2                   4\n",
      "                    8                  16                  32\n",
      "                   64                 128]\n",
      " [                256                 512                1024\n",
      "                 2048                4096                8192\n",
      "                16384               32768]\n",
      " [              65536              131072              262144\n",
      "               524288             1048576             2097152\n",
      "              4194304             8388608]\n",
      " [           16777216            33554432            67108864\n",
      "            134217728           268435456           536870912\n",
      "           1073741824          2147483648]\n",
      " [         4294967296          8589934592         17179869184\n",
      "          34359738368         68719476736        137438953472\n",
      "         274877906944        549755813888]\n",
      " [      1099511627776       2199023255552       4398046511104\n",
      "        8796093022208      17592186044416      35184372088832\n",
      "       70368744177664     140737488355328]\n",
      " [    281474976710656     562949953421312    1125899906842624\n",
      "     2251799813685248    4503599627370496    9007199254740992\n",
      "    18014398509481984   36028797018963968]\n",
      " [  72057594037927936  144115188075855872  288230376151711744\n",
      "   576460752303423488 1152921504606846976 2305843009213693952\n",
      "  4611686018427387904 9223372036854775808]]\n"
     ]
    }
   ],
   "source": [
    "def n_m_square_wheat_broadcast(n, m):\n",
    "    n_squares = n * m\n",
    "    index = np.arange(n_squares).astype(np.uint64)\n",
    "\n",
    "    board = 2 ** index\n",
    "\n",
    "    board = np.reshape(board, (n, m))\n",
    "\n",
    "    return board\n",
    "\n",
    "n = 8\n",
    "m = 8\n",
    "\n",
    "board_broadcast = n_m_square_wheat_broadcast(n, m)\n",
    "\n",
    "print(\"Arrange wheat on a plate of {} x {} squares:\".format(n, m))\n",
    "print(board_broadcast)"
   ]
  },
  {
   "cell_type": "markdown",
   "id": "widespread-alaska",
   "metadata": {},
   "source": [
    "Problem 7: Comparing calculation time"
   ]
  },
  {
   "cell_type": "markdown",
   "id": "assisted-moore",
   "metadata": {},
   "source": [
    "List method:"
   ]
  },
  {
   "cell_type": "code",
   "execution_count": 17,
   "id": "driving-chick",
   "metadata": {},
   "outputs": [
    {
     "name": "stdout",
     "output_type": "stream",
     "text": [
      "51.5 µs ± 4.52 µs per loop (mean ± std. dev. of 7 runs, 10000 loops each)\n"
     ]
    }
   ],
   "source": [
    "%%timeit\n",
    "\n",
    "def n_m_square_wheat(n, m):\n",
    "    n_squares = n * m\n",
    "\n",
    "    board_lst = [1]     \n",
    "    for i in range(n_squares - 1):\n",
    "        board_lst.append(board_lst[-1] * 2)\n",
    "\n",
    "    board_array = np.array(board_lst)\n",
    "    board_array = np.reshape(board_array, (n, m))\n",
    "\n",
    "    return board_array\n",
    "\n",
    "n = 8\n",
    "m = 8\n",
    "\n",
    "board = n_m_square_wheat(n, m)"
   ]
  },
  {
   "cell_type": "markdown",
   "id": "amateur-postcard",
   "metadata": {},
   "source": [
    "Append method:"
   ]
  },
  {
   "cell_type": "code",
   "execution_count": 20,
   "id": "complete-ambassador",
   "metadata": {},
   "outputs": [
    {
     "name": "stdout",
     "output_type": "stream",
     "text": [
      "1.86 ms ± 314 µs per loop (mean ± std. dev. of 7 runs, 1000 loops each)\n"
     ]
    }
   ],
   "source": [
    "%%timeit\n",
    "\n",
    "def n_m_square_wheat_append(n, m):\n",
    "    n_squares = n * m\n",
    "    board = np.array([1])\n",
    "\n",
    "    for i in range(n_squares - 1):\n",
    "        board = np.append(board, 2 * board[-1]).astype(np.uint64)\n",
    "\n",
    "    board = np.reshape(board, (n, m))\n",
    "\n",
    "    return board\n",
    "\n",
    "n = 8\n",
    "m = 8\n",
    "\n",
    "board_append = n_m_square_wheat_append(n, m)"
   ]
  },
  {
   "cell_type": "markdown",
   "id": "subsequent-senate",
   "metadata": {},
   "source": [
    "Broadcast method:"
   ]
  },
  {
   "cell_type": "code",
   "execution_count": 19,
   "id": "dress-approach",
   "metadata": {},
   "outputs": [
    {
     "name": "stdout",
     "output_type": "stream",
     "text": [
      "14.5 µs ± 2.61 µs per loop (mean ± std. dev. of 7 runs, 10000 loops each)\n"
     ]
    }
   ],
   "source": [
    "%%timeit\n",
    "\n",
    "def n_m_square_wheat_broadcast(n, m):\n",
    "    n_squares = n * m\n",
    "    index = np.arange(n_squares).astype(np.uint64)\n",
    "\n",
    "    board = 2 ** index\n",
    "\n",
    "    board = np.reshape(board, (n, m))\n",
    "\n",
    "    return board\n",
    "\n",
    "n = 8\n",
    "m = 8\n",
    "\n",
    "board_broadcast = n_m_square_wheat_broadcast(n, m)"
   ]
  },
  {
   "cell_type": "markdown",
   "id": "marine-david",
   "metadata": {},
   "source": [
    "We can draw conclusion that the broadcast method is the fastest, followed by the list method and lastly the append method."
   ]
  },
  {
   "cell_type": "code",
   "execution_count": null,
   "id": "wanted-appearance",
   "metadata": {},
   "outputs": [],
   "source": []
  }
 ],
 "metadata": {
  "kernelspec": {
   "display_name": "Python 3",
   "language": "python",
   "name": "python3"
  },
  "language_info": {
   "codemirror_mode": {
    "name": "ipython",
    "version": 3
   },
   "file_extension": ".py",
   "mimetype": "text/x-python",
   "name": "python",
   "nbconvert_exporter": "python",
   "pygments_lexer": "ipython3",
   "version": "3.9.0"
  }
 },
 "nbformat": 4,
 "nbformat_minor": 5
}
