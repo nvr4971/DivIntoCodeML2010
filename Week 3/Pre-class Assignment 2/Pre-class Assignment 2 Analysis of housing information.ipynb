{
 "cells": [
  {
   "cell_type": "markdown",
   "id": "cosmetic-entrepreneur",
   "metadata": {},
   "source": [
    "Pre-class Assignment 2: Analysis of housing information\n",
    "\n",
    "Student: Nguyễn Tấn Tài"
   ]
  },
  {
   "cell_type": "markdown",
   "id": "unique-going",
   "metadata": {},
   "source": []
  }
 ],
 "metadata": {
  "kernelspec": {
   "display_name": "Python 3",
   "language": "python",
   "name": "python3"
  },
  "language_info": {
   "codemirror_mode": {
    "name": "ipython",
    "version": 3
   },
   "file_extension": ".py",
   "mimetype": "text/x-python",
   "name": "python",
   "nbconvert_exporter": "python",
   "pygments_lexer": "ipython3",
   "version": "3.9.0"
  }
 },
 "nbformat": 4,
 "nbformat_minor": 5
}
